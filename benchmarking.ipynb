{
 "cells": [
  {
   "cell_type": "code",
   "execution_count": 12,
   "id": "82da616e",
   "metadata": {},
   "outputs": [],
   "source": [
    "import json\n",
    "import time\n",
    "import torch\n",
    "import numpy as np\n",
    "import pandas as pd\n",
    "import dask.dataframe as dd\n",
    "from PIL import Image\n",
    "from dask.distributed import Client\n",
    "from cerebro.dask_backend import DaskBackend\n",
    "from cerebro.dataset_info import DatasetInfo\n",
    "from cerebro.params import Params\n",
    "from cerebro.etl import etl\n",
    "import cerebro.constants as constants\n",
    "from torchvision import transforms\n",
    "from sentence_transformers import SentenceTransformer, util\n",
    "\n",
    "import matplotlib\n",
    "from distributed.diagnostics import MemorySampler\n",
    "from dask.distributed import performance_report\n",
    "\n",
    "def prepare_data():\n",
    "    data = None\n",
    "    with open(\"/mydata/coco/annotations/captions_val2014.json\") as f:\n",
    "        data = json.load(f)\n",
    "    dataset = {\n",
    "        'id': [],\n",
    "        'file_name': [],\n",
    "        'height': [],\n",
    "        'width': [],\n",
    "        'captions': [],\n",
    "        'date_captured': [] \n",
    "    }\n",
    "\n",
    "    annotations = {}\n",
    "    annotations_list = data['annotations']\n",
    "    for i in annotations_list:\n",
    "        if not i[\"image_id\"] in annotations:\n",
    "            annotations[i[\"image_id\"]] = []\n",
    "        annotations[i[\"image_id\"]].append(i[\"caption\"])\n",
    "\n",
    "    for i in range(len(data['images'])):\n",
    "        dataset['id'].append(data[\"images\"][i]['id'])\n",
    "        dataset['file_name'].append(data[\"images\"][i]['file_name'])\n",
    "        dataset['height'].append(data[\"images\"][i]['height'])\n",
    "        dataset['width'].append(data[\"images\"][i]['width'])\n",
    "        dataset['captions'].append(annotations[data[\"images\"][i]['id']])\n",
    "        dataset['date_captured'].append(data[\"images\"][i]['date_captured'])\n",
    "\n",
    "    dataset = pd.DataFrame(dataset)\n",
    "    dataset.to_csv(\"/mydata/coco/annotations/captions_val2014_modified.csv\", index=False)\n",
    "\n",
    "def row_preprocessing_routine(row, to_root_path, kwargs):\n",
    "    t1 = time.time()\n",
    "    input_image_path = to_root_path + str(row[\"file_name\"])\n",
    "    output_caption = row[\"captions\"]\n",
    "    img = Image.open(input_image_path)\n",
    "    img_tensor = transforms.PILToTensor()(img)\n",
    "    enc_model = kwargs['nlp_model']\n",
    "    caption_tensor = enc_model.encode([output_caption], convert_to_tensor=True)\n",
    "    saved = [img_tensor, caption_tensor]\n",
    "    t2 = time.time()\n",
    "    return [ kwargs[\"io_time\"], t2-t1]\n",
    "    \n",
    "def testing():\n",
    "    prepare_data()\n",
    "    df = pd.read_csv(\"/mydata/coco/annotations/captions_val2014_modified.csv\")\n",
    "    df.head()"
   ]
  },
  {
   "cell_type": "code",
   "execution_count": 13,
   "id": "fd9c4028",
   "metadata": {},
   "outputs": [
    {
     "name": "stdout",
     "output_type": "stream",
     "text": [
      "Client dashboard:  http://0.0.0.0:8787/status\n",
      "Number of workers: 32\n",
      "40504\n"
     ]
    }
   ],
   "source": [
    "dsk_bknd = DaskBackend(\"0.0.0.0:8786\")\n",
    "\n",
    "prepare_data()\n",
    "is_feature_download = [False, True, False, False, False, False]\n",
    "feature_names = [\"id\", \"file_name\", \"height\", \"width\", \"captions\", \"date_captured\"]\n",
    "dtypes = (int, str, int, int, list, str)\n",
    "data_info = DatasetInfo(feature_names, feature_names, [], dtypes, is_feature_download)\n",
    "\n",
    "metadata_path = \"/mydata/coco/annotations/captions_val2014_modified.csv\"\n",
    "from_root_path = \"/mydata/coco/images/val2014/\"\n",
    "to_root_path = \"/mydata/coco/val2014/\"\n",
    "output_path = \"\"\n",
    "requirements_path = \"\"\n",
    "download_type = constants.DOWNLOAD_FROM_SERVER\n",
    "username = \"vik1497\"\n",
    "host = \"node0\"\n",
    "# host = \"128.110.217.142\"\n",
    "pem_path = \"/users/vik1497/cloudlab.pem\"\n",
    "\n",
    "nlp_model = SentenceTransformer('all-MiniLM-L6-v2')\n",
    "\n",
    "params = Params(metadata_path, from_root_path, to_root_path,\n",
    "    output_path, requirements_path, username, host, pem_path,\n",
    "    download_type)\n",
    "\n",
    "e = etl(dsk_bknd, params, row_preprocessing_routine, data_info)\n",
    "\n",
    "e.load_data(frac=1)\n",
    "e.shuffle_shard_data()\n",
    "e.sharded_df.compute()\n",
    "print(len(e.sharded_df))\n",
    "result = e.preprocess_data(nlp_model=nlp_model)"
   ]
  },
  {
   "cell_type": "code",
   "execution_count": null,
   "id": "aa6fcf22",
   "metadata": {},
   "outputs": [],
   "source": []
  },
  {
   "cell_type": "code",
   "execution_count": null,
   "id": "200d252d",
   "metadata": {},
   "outputs": [],
   "source": [
    "with performance_report(filename=\"./benchmarking/report_3_workers.html\"):\n",
    "    out = result.compute()"
   ]
  },
  {
   "cell_type": "code",
   "execution_count": null,
   "id": "ba9721c8",
   "metadata": {},
   "outputs": [],
   "source": [
    "\n",
    "out1.head()"
   ]
  },
  {
   "cell_type": "code",
   "execution_count": null,
   "id": "a29368b8",
   "metadata": {},
   "outputs": [],
   "source": [
    "io_sum = out1[\"io\"].sum()\n",
    "cpu_sum = out1[\"cpu\"].sum()"
   ]
  },
  {
   "cell_type": "code",
   "execution_count": null,
   "id": "1fc104a3",
   "metadata": {},
   "outputs": [],
   "source": [
    "with open(\"./benchmarking/timings.csv\", \"a\") as f:\n",
    "    f.write(\",\".join([\"3\", str(io_sum), str(cpu_sum)]))\n",
    "    f.write(\"\\n\")"
   ]
  },
  {
   "cell_type": "code",
   "execution_count": 3,
   "id": "607240f5",
   "metadata": {},
   "outputs": [],
   "source": [
    "out1 = None"
   ]
  },
  {
   "cell_type": "code",
   "execution_count": 14,
   "id": "f4a011f7",
   "metadata": {},
   "outputs": [
    {
     "name": "stdout",
     "output_type": "stream",
     "text": [
      "time: -200.3843822479248\n"
     ]
    },
    {
     "data": {
      "text/plain": [
       "<AxesSubplot:xlabel='time', ylabel='Cluster memory (GiB)'>"
      ]
     },
     "execution_count": 14,
     "metadata": {},
     "output_type": "execute_result"
    },
    {
     "data": {
      "image/png": "[encoded data removed]",
      "text/plain": [
       "<Figure size 432x288 with 1 Axes>"
      ]
     },
     "metadata": {
      "needs_background": "light"
     },
     "output_type": "display_data"
    }
   ],
   "source": [
    "ms = MemorySampler()\n",
    "with ms.sample(\"Result\"):\n",
    "    ts = time.time()\n",
    "    out = result.compute()\n",
    "    te = time.time()\n",
    "    out1 = out.copy().to_frame()\n",
    "    out1[[\"io\", \"cpu\"]] = list(out1[\"transformed_data\"])\n",
    "    out1 = out1.drop(\"transformed_data\", axis=1)\n",
    "    print(\"time:\" , str(ts - te))\n",
    "# out_df = out.to_frame()\n",
    "ms.plot()"
   ]
  },
  {
   "cell_type": "code",
   "execution_count": 27,
   "id": "9e37796e",
   "metadata": {},
   "outputs": [],
   "source": [
    "io_sum = out1[\"io\"].sum()\n",
    "cpu_sum = out1[\"cpu\"].sum()"
   ]
  },
  {
   "cell_type": "code",
   "execution_count": 28,
   "id": "97162f47",
   "metadata": {},
   "outputs": [
    {
     "data": {
      "text/plain": [
       "1626.7873694896698"
      ]
     },
     "execution_count": 28,
     "metadata": {},
     "output_type": "execute_result"
    }
   ],
   "source": [
    "io_sum"
   ]
  },
  {
   "cell_type": "code",
   "execution_count": 29,
   "id": "eed4866c",
   "metadata": {},
   "outputs": [
    {
     "data": {
      "text/plain": [
       "4352.840869665146"
      ]
     },
     "execution_count": 29,
     "metadata": {},
     "output_type": "execute_result"
    }
   ],
   "source": [
    "cpu_sum"
   ]
  },
  {
   "cell_type": "code",
   "execution_count": null,
   "id": "e43480aa",
   "metadata": {},
   "outputs": [],
   "source": []
  },
  {
   "cell_type": "code",
   "execution_count": null,
   "id": "77fe82a3",
   "metadata": {},
   "outputs": [],
   "source": [
    "76.63276243209839"
   ]
  },
  {
   "cell_type": "code",
   "execution_count": null,
   "id": "4494afd0",
   "metadata": {},
   "outputs": [
    {
     "name": "stdout",
     "output_type": "stream",
     "text": [
      "i:0 io time:50.16573739051819\n",
      "i:0 cpu time:96.3658607006073\n",
      "i:1 io time:51.72825074195862\n",
      "i:1 cpu time:96.29431509971619\n",
      "i:2 io time:46.75803518295288\n",
      "i:2 cpu time:96.02361392974854\n",
      "i:3 io time:47.50008225440979\n",
      "i:3 cpu time:95.91982817649841\n",
      "i:4 io time:48.141329765319824\n",
      "i:4 cpu time:96.21696496009827\n",
      "i:5 io time:50.00653028488159\n",
      "i:5 cpu time:96.51851201057434\n",
      "i:6 io time:52.34053587913513\n",
      "i:6 cpu time:95.51170897483826\n",
      "i:7 io time:51.615744829177856\n",
      "i:7 cpu time:96.11420822143555\n",
      "i:8 io time:48.330196380615234\n",
      "i:8 cpu time:96.32715463638306\n",
      "i:9 io time:51.3413565158844\n",
      "i:9 cpu time:96.63238430023193\n",
      "i:10 io time:50.394219636917114\n",
      "i:10 cpu time:95.51739692687988\n",
      "i:11 io time:48.186307191848755\n",
      "i:11 cpu time:95.29490041732788\n",
      "i:12 io time:48.865437030792236\n",
      "i:12 cpu time:96.40552139282227\n",
      "i:13 io time:49.719459772109985\n",
      "i:13 cpu time:96.06203818321228\n",
      "i:14 io time:50.20809364318848\n",
      "i:14 cpu time:97.32974171638489\n",
      "i:15 io time:49.73141622543335\n",
      "i:15 cpu time:95.81811666488647\n"
     ]
    }
   ],
   "source": [
    "for i in range(result.npartitions):\n",
    "    out1 = result.partitions[i].compute().to_frame()\n",
    "    out1[[\"io\", \"cpu\"]] = list(out1[\"transformed_data\"])\n",
    "    out1 = out1.drop(\"transformed_data\", axis=1)\n",
    "    io_sum = out1[\"io\"].sum()\n",
    "    cpu_sum = out1[\"cpu\"].sum()\n",
    "    print(\"i:\" + str(i) + \" io time:\"+ str(io_sum))\n",
    "    print(\"i:\" + str(i) + \" cpu time:\"+ str(cpu_sum))"
   ]
  },
  {
   "cell_type": "code",
   "execution_count": 21,
   "id": "eaa0f59a",
   "metadata": {},
   "outputs": [
    {
     "data": {
      "text/plain": [
       "1228      [0.24522733688354492, 0.0664372444152832]\n",
       "165      [0.05618453025817871, 0.06711816787719727]\n",
       "1189     [0.06087231636047363, 0.09096956253051758]\n",
       "271     [0.017115116119384766, 0.06724071502685547]\n",
       "441     [0.056533098220825195, 0.06775879859924316]\n",
       "                           ...                     \n",
       "926      [0.05424356460571289, 0.06626605987548828]\n",
       "696     [0.014594554901123047, 0.06103396415710449]\n",
       "358     [0.014006853103637695, 0.07684445381164551]\n",
       "254     [0.013506174087524414, 0.06275391578674316]\n",
       "458     [0.059103965759277344, 0.07337403297424316]\n",
       "Name: transformed_data, Length: 1266, dtype: object"
      ]
     },
     "execution_count": 21,
     "metadata": {},
     "output_type": "execute_result"
    }
   ],
   "source": [
    "out1"
   ]
  },
  {
   "cell_type": "code",
   "execution_count": 25,
   "id": "160662ab",
   "metadata": {},
   "outputs": [
    {
     "ename": "KeyError",
     "evalue": "'transformed_data'",
     "output_type": "error",
     "traceback": [
      "\u001b[0;31m---------------------------------------------------------------------------\u001b[0m",
      "\u001b[0;31mKeyError\u001b[0m                                  Traceback (most recent call last)",
      "File \u001b[0;32m~/.local/lib/python3.8/site-packages/pandas/core/indexes/base.py:3621\u001b[0m, in \u001b[0;36mIndex.get_loc\u001b[0;34m(self, key, method, tolerance)\u001b[0m\n\u001b[1;32m   3620\u001b[0m \u001b[38;5;28;01mtry\u001b[39;00m:\n\u001b[0;32m-> 3621\u001b[0m     \u001b[38;5;28;01mreturn\u001b[39;00m \u001b[38;5;28;43mself\u001b[39;49m\u001b[38;5;241;43m.\u001b[39;49m\u001b[43m_engine\u001b[49m\u001b[38;5;241;43m.\u001b[39;49m\u001b[43mget_loc\u001b[49m\u001b[43m(\u001b[49m\u001b[43mcasted_key\u001b[49m\u001b[43m)\u001b[49m\n\u001b[1;32m   3622\u001b[0m \u001b[38;5;28;01mexcept\u001b[39;00m \u001b[38;5;167;01mKeyError\u001b[39;00m \u001b[38;5;28;01mas\u001b[39;00m err:\n",
      "File \u001b[0;32m~/.local/lib/python3.8/site-packages/pandas/_libs/index.pyx:136\u001b[0m, in \u001b[0;36mpandas._libs.index.IndexEngine.get_loc\u001b[0;34m()\u001b[0m\n",
      "File \u001b[0;32m~/.local/lib/python3.8/site-packages/pandas/_libs/index.pyx:144\u001b[0m, in \u001b[0;36mpandas._libs.index.IndexEngine.get_loc\u001b[0;34m()\u001b[0m\n",
      "File \u001b[0;32mpandas/_libs/index_class_helper.pxi:41\u001b[0m, in \u001b[0;36mpandas._libs.index.Int64Engine._check_type\u001b[0;34m()\u001b[0m\n",
      "\u001b[0;31mKeyError\u001b[0m: 'transformed_data'",
      "\nThe above exception was the direct cause of the following exception:\n",
      "\u001b[0;31mKeyError\u001b[0m                                  Traceback (most recent call last)",
      "Input \u001b[0;32mIn [25]\u001b[0m, in \u001b[0;36m<cell line: 1>\u001b[0;34m()\u001b[0m\n\u001b[0;32m----> 1\u001b[0m \u001b[43mout1\u001b[49m\u001b[43m[\u001b[49m\u001b[38;5;124;43m\"\u001b[39;49m\u001b[38;5;124;43mtransformed_data\u001b[39;49m\u001b[38;5;124;43m\"\u001b[39;49m\u001b[43m]\u001b[49m\n",
      "File \u001b[0;32m~/.local/lib/python3.8/site-packages/pandas/core/series.py:958\u001b[0m, in \u001b[0;36mSeries.__getitem__\u001b[0;34m(self, key)\u001b[0m\n\u001b[1;32m    955\u001b[0m     \u001b[38;5;28;01mreturn\u001b[39;00m \u001b[38;5;28mself\u001b[39m\u001b[38;5;241m.\u001b[39m_values[key]\n\u001b[1;32m    957\u001b[0m \u001b[38;5;28;01melif\u001b[39;00m key_is_scalar:\n\u001b[0;32m--> 958\u001b[0m     \u001b[38;5;28;01mreturn\u001b[39;00m \u001b[38;5;28;43mself\u001b[39;49m\u001b[38;5;241;43m.\u001b[39;49m\u001b[43m_get_value\u001b[49m\u001b[43m(\u001b[49m\u001b[43mkey\u001b[49m\u001b[43m)\u001b[49m\n\u001b[1;32m    960\u001b[0m \u001b[38;5;28;01mif\u001b[39;00m is_hashable(key):\n\u001b[1;32m    961\u001b[0m     \u001b[38;5;66;03m# Otherwise index.get_value will raise InvalidIndexError\u001b[39;00m\n\u001b[1;32m    962\u001b[0m     \u001b[38;5;28;01mtry\u001b[39;00m:\n\u001b[1;32m    963\u001b[0m         \u001b[38;5;66;03m# For labels that don't resolve as scalars like tuples and frozensets\u001b[39;00m\n",
      "File \u001b[0;32m~/.local/lib/python3.8/site-packages/pandas/core/series.py:1069\u001b[0m, in \u001b[0;36mSeries._get_value\u001b[0;34m(self, label, takeable)\u001b[0m\n\u001b[1;32m   1066\u001b[0m     \u001b[38;5;28;01mreturn\u001b[39;00m \u001b[38;5;28mself\u001b[39m\u001b[38;5;241m.\u001b[39m_values[label]\n\u001b[1;32m   1068\u001b[0m \u001b[38;5;66;03m# Similar to Index.get_value, but we do not fall back to positional\u001b[39;00m\n\u001b[0;32m-> 1069\u001b[0m loc \u001b[38;5;241m=\u001b[39m \u001b[38;5;28;43mself\u001b[39;49m\u001b[38;5;241;43m.\u001b[39;49m\u001b[43mindex\u001b[49m\u001b[38;5;241;43m.\u001b[39;49m\u001b[43mget_loc\u001b[49m\u001b[43m(\u001b[49m\u001b[43mlabel\u001b[49m\u001b[43m)\u001b[49m\n\u001b[1;32m   1070\u001b[0m \u001b[38;5;28;01mreturn\u001b[39;00m \u001b[38;5;28mself\u001b[39m\u001b[38;5;241m.\u001b[39mindex\u001b[38;5;241m.\u001b[39m_get_values_for_loc(\u001b[38;5;28mself\u001b[39m, loc, label)\n",
      "File \u001b[0;32m~/.local/lib/python3.8/site-packages/pandas/core/indexes/base.py:3623\u001b[0m, in \u001b[0;36mIndex.get_loc\u001b[0;34m(self, key, method, tolerance)\u001b[0m\n\u001b[1;32m   3621\u001b[0m     \u001b[38;5;28;01mreturn\u001b[39;00m \u001b[38;5;28mself\u001b[39m\u001b[38;5;241m.\u001b[39m_engine\u001b[38;5;241m.\u001b[39mget_loc(casted_key)\n\u001b[1;32m   3622\u001b[0m \u001b[38;5;28;01mexcept\u001b[39;00m \u001b[38;5;167;01mKeyError\u001b[39;00m \u001b[38;5;28;01mas\u001b[39;00m err:\n\u001b[0;32m-> 3623\u001b[0m     \u001b[38;5;28;01mraise\u001b[39;00m \u001b[38;5;167;01mKeyError\u001b[39;00m(key) \u001b[38;5;28;01mfrom\u001b[39;00m \u001b[38;5;21;01merr\u001b[39;00m\n\u001b[1;32m   3624\u001b[0m \u001b[38;5;28;01mexcept\u001b[39;00m \u001b[38;5;167;01mTypeError\u001b[39;00m:\n\u001b[1;32m   3625\u001b[0m     \u001b[38;5;66;03m# If we have a listlike key, _check_indexing_error will raise\u001b[39;00m\n\u001b[1;32m   3626\u001b[0m     \u001b[38;5;66;03m#  InvalidIndexError. Otherwise we fall through and re-raise\u001b[39;00m\n\u001b[1;32m   3627\u001b[0m     \u001b[38;5;66;03m#  the TypeError.\u001b[39;00m\n\u001b[1;32m   3628\u001b[0m     \u001b[38;5;28mself\u001b[39m\u001b[38;5;241m.\u001b[39m_check_indexing_error(key)\n",
      "\u001b[0;31mKeyError\u001b[0m: 'transformed_data'"
     ]
    }
   ],
   "source": [
    "out1[\"transformed_data\"]"
   ]
  },
  {
   "cell_type": "code",
   "execution_count": null,
   "id": "1b187fb5",
   "metadata": {},
   "outputs": [],
   "source": []
  }
 ],
 "metadata": {
  "kernelspec": {
   "display_name": "Python 3 (ipykernel)",
   "language": "python",
   "name": "python3"
  },
  "language_info": {
   "codemirror_mode": {
    "name": "ipython",
    "version": 3
   },
   "file_extension": ".py",
   "mimetype": "text/x-python",
   "name": "python",
   "nbconvert_exporter": "python",
   "pygments_lexer": "ipython3",
   "version": "3.8.10"
  }
 },
 "nbformat": 4,
 "nbformat_minor": 5
}
