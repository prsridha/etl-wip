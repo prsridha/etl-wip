{
 "cells": [
  {
   "cell_type": "code",
   "execution_count": 2,
   "id": "c8788b21",
   "metadata": {},
   "outputs": [],
   "source": [
    "import json\n",
    "import time\n",
    "import torch\n",
    "import numpy as np\n",
    "import pandas as pd\n",
    "import dask.dataframe as dd\n",
    "from PIL import Image\n",
    "from dask.distributed import Client\n",
    "from cerebro.dask_backend import DaskBackend\n",
    "from cerebro.dataset_info import DatasetInfo\n",
    "from cerebro.params import Params\n",
    "from cerebro.etl import etl\n",
    "import cerebro.constants as constants\n",
    "from torchvision import transforms\n",
    "from sentence_transformers import SentenceTransformer, util"
   ]
  },
  {
   "cell_type": "code",
   "execution_count": 3,
   "id": "19cbd746",
   "metadata": {},
   "outputs": [],
   "source": [
    "def prepare_data():\n",
    "    data = None\n",
    "    with open(\"/data/cerebro_data_storage/coco/annotations/captions_val2014.json\") as f:\n",
    "        data = json.load(f)\n",
    "    dataset = {\n",
    "        'id': [],\n",
    "        'file_name': [],\n",
    "        'height': [],\n",
    "        'width': [],\n",
    "        'captions': [],\n",
    "        'date_captured': [] \n",
    "    }\n",
    "\n",
    "    annotations = {}\n",
    "    annotations_list = data['annotations']\n",
    "    for i in annotations_list:\n",
    "        if not i[\"image_id\"] in annotations:\n",
    "            annotations[i[\"image_id\"]] = []\n",
    "        annotations[i[\"image_id\"]].append(i[\"caption\"])\n",
    "\n",
    "    for i in range(len(data['images'])):\n",
    "        dataset['id'].append(data[\"images\"][i]['id'])\n",
    "        dataset['file_name'].append(data[\"images\"][i]['file_name'])\n",
    "        dataset['height'].append(data[\"images\"][i]['height'])\n",
    "        dataset['width'].append(data[\"images\"][i]['width'])\n",
    "        dataset['captions'].append(annotations[data[\"images\"][i]['id']])\n",
    "        dataset['date_captured'].append(data[\"images\"][i]['date_captured'])\n",
    "\n",
    "    dataset = pd.DataFrame(dataset)\n",
    "    dataset.to_csv(\"/data/cerebro_data_storage/coco/annotations/captions_val2014_modified.csv\", index=False)"
   ]
  },
  {
   "cell_type": "code",
   "execution_count": 4,
   "id": "ecb0cb88",
   "metadata": {},
   "outputs": [],
   "source": [
    "def row_preprocessing_routine(row, to_root_path, kwargs):\n",
    "    t1 = time.time()\n",
    "    input_image_path = to_root_path + str(row[\"file_name\"])\n",
    "    output_caption = row[\"captions\"]\n",
    "    img = Image.open(input_image_path)\n",
    "    img_tensor = transforms.PILToTensor()(img)\n",
    "    enc_model = kwargs['nlp_model']\n",
    "    caption_tensor = enc_model.encode([output_caption], convert_to_tensor=True)\n",
    "    saved = [img_tensor, caption_tensor]\n",
    "    t2 = time.time()\n",
    "    return [ kwargs[\"io_time\"], t2-t1]"
   ]
  },
  {
   "cell_type": "code",
   "execution_count": 5,
   "id": "e0a0197d",
   "metadata": {},
   "outputs": [],
   "source": [
    "def main():\n",
    "    dsk_bknd = DaskBackend(\"0.0.0.0:8786\")\n",
    "\n",
    "    prepare_data()\n",
    "    is_feature_download = [False, True, False, False, False, False]\n",
    "    feature_names = [\"id\", \"file_name\", \"height\", \"width\", \"captions\", \"date_captured\"]\n",
    "    dtypes = (int, str, int, int, list, str)\n",
    "    data_info = DatasetInfo(feature_names, feature_names, [], dtypes, is_feature_download)\n",
    "\n",
    "    metadata_path = \"/data/cerebro_data_storage/coco/annotations/captions_val2014_modified.csv\"\n",
    "    from_root_path = \"/data/cerebro_data_storage/coco/val2014/\"\n",
    "    to_root_path = \"/data/cerebro_data_storage_worker/coco/val2014/\"\n",
    "    output_path = \"\"\n",
    "    requirements_path = \"\"\n",
    "    download_type = constants.DOWNLOAD_FROM_SERVER\n",
    "\n",
    "    nlp_model = SentenceTransformer('all-MiniLM-L6-v2')\n",
    "\n",
    "    params = Params(metadata_path, from_root_path, to_root_path,\n",
    "        output_path, requirements_path, download_type)\n",
    "\n",
    "    e = etl(dsk_bknd, params, row_preprocessing_routine, data_info)\n",
    "\n",
    "    e.load_data(frac=0.01)\n",
    "    e.shuffle_shard_data()\n",
    "    result = e.preprocess_data(nlp_model=nlp_model)\n",
    "    return result\n",
    "    \n",
    "#     for i in range(result.npartitions):\n",
    "#         out1 = result.partitions[i].compute().to_frame()\n",
    "#         out1[[\"io\", \"cpu\"]] = list(out1[\"transformed_data\"])\n",
    "#         out1 = out1.drop(\"transformed_data\", axis=1)\n",
    "#         io_sum = out1[\"io\"].sum()\n",
    "#         cpu_sum = out1[\"cpu\"].sum()\n",
    "#         print(\"i:\" + str(i) + \" io time:\"+ str(io_sum))\n",
    "#         print(\"i:\" + str(i) + \" cpu time:\"+ str(cpu_sum))\n",
    "\n"
   ]
  },
  {
   "cell_type": "code",
   "execution_count": 6,
   "id": "b8934e0b",
   "metadata": {},
   "outputs": [
    {
     "name": "stdout",
     "output_type": "stream",
     "text": [
      "Client dashboard:  http://0.0.0.0:8787/status\n",
      "Number of workers: 8\n"
     ]
    }
   ],
   "source": [
    "result = main()"
   ]
  },
  {
   "cell_type": "code",
   "execution_count": 7,
   "id": "0898bb9f",
   "metadata": {},
   "outputs": [],
   "source": [
    "out = result.compute()\n",
    "out1 = out.to_frame()\n",
    "out1[[\"io\", \"cpu\"]] = list(out1[\"transformed_data\"])\n",
    "out1 = out1.drop(\"transformed_data\", axis=1)\n",
    "io_sum = out1[\"io\"].sum() / result.npartitions\n",
    "cpu_sum = out1[\"cpu\"].sum() / result.npartitions"
   ]
  },
  {
   "cell_type": "code",
   "execution_count": 8,
   "id": "a62cd086",
   "metadata": {},
   "outputs": [
    {
     "name": "stdout",
     "output_type": "stream",
     "text": [
      "io time:2.8381438553333282\n",
      "cpu time:2.5297029316425323\n"
     ]
    }
   ],
   "source": [
    "print(\"io time:\"+ str(io_sum))\n",
    "print(\"cpu time:\"+ str(cpu_sum))"
   ]
  },
  {
   "cell_type": "code",
   "execution_count": null,
   "id": "b8169b7c",
   "metadata": {},
   "outputs": [],
   "source": []
  },
  {
   "cell_type": "code",
   "execution_count": null,
   "id": "4bd3824c",
   "metadata": {},
   "outputs": [],
   "source": []
  },
  {
   "cell_type": "code",
   "execution_count": null,
   "id": "4d958104",
   "metadata": {},
   "outputs": [],
   "source": []
  }
 ],
 "metadata": {
  "kernelspec": {
   "display_name": "Python 3 (ipykernel)",
   "language": "python",
   "name": "python3"
  },
  "language_info": {
   "codemirror_mode": {
    "name": "ipython",
    "version": 3
   },
   "file_extension": ".py",
   "mimetype": "text/x-python",
   "name": "python",
   "nbconvert_exporter": "python",
   "pygments_lexer": "ipython3",
   "version": "3.7.13"
  }
 },
 "nbformat": 4,
 "nbformat_minor": 5
}
