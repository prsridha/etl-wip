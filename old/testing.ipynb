{
 "cells": [
  {
   "cell_type": "code",
   "execution_count": 1,
   "id": "c66c1cfd",
   "metadata": {},
   "outputs": [],
   "source": [
    "import pandas as pd\n",
    "import random\n",
    "import numpy as np\n",
    "import dask.dataframe as dd\n",
    "from dask.distributed import Client"
   ]
  },
  {
   "cell_type": "code",
   "execution_count": 2,
   "id": "daa4d461",
   "metadata": {},
   "outputs": [],
   "source": [
    "x = random.sample(range(1,20), 10)\n",
    "d = pd.DataFrame(x, columns=['x'])\n",
    "# d = pd.DataFrame({'x': [1, 2, 3, 4, 5],\n",
    "#                    'y': [1., 2., 3., 4., 5.]})"
   ]
  },
  {
   "cell_type": "code",
   "execution_count": 3,
   "id": "e5d9ce49",
   "metadata": {},
   "outputs": [],
   "source": [
    "df = dd.from_pandas(d, npartitions=2)"
   ]
  },
  {
   "cell_type": "code",
   "execution_count": 4,
   "id": "4a50988a",
   "metadata": {},
   "outputs": [],
   "source": [
    "def our_add(df):\n",
    "    return df + 100"
   ]
  },
  {
   "cell_type": "code",
   "execution_count": 5,
   "id": "ca225762",
   "metadata": {},
   "outputs": [],
   "source": [
    "new_df = df.x.map_partitions(lambda a: a+100)"
   ]
  },
  {
   "cell_type": "code",
   "execution_count": 6,
   "id": "121d8ee7",
   "metadata": {},
   "outputs": [
    {
     "data": {
      "text/plain": [
       "0    102\n",
       "1    111\n",
       "2    113\n",
       "3    105\n",
       "4    116\n",
       "5    104\n",
       "6    112\n",
       "7    108\n",
       "8    118\n",
       "9    119\n",
       "Name: x, dtype: int64"
      ]
     },
     "execution_count": 6,
     "metadata": {},
     "output_type": "execute_result"
    }
   ],
   "source": [
    "new_df.compute()"
   ]
  },
  {
   "cell_type": "code",
   "execution_count": 47,
   "id": "bee2e3ce",
   "metadata": {},
   "outputs": [],
   "source": [
    "df = pd.DataFrame({'x': [1, 2, 3, 4, 5],\n",
    "                   'y': [1., 2., 3., 4., 5.]})\n",
    "ddf = dd.from_pandas(df, npartitions=2)"
   ]
  },
  {
   "cell_type": "code",
   "execution_count": 48,
   "id": "26de4bf5",
   "metadata": {},
   "outputs": [
    {
     "data": {
      "text/html": [
       "<div>\n",
       "<style scoped>\n",
       "    .dataframe tbody tr th:only-of-type {\n",
       "        vertical-align: middle;\n",
       "    }\n",
       "\n",
       "    .dataframe tbody tr th {\n",
       "        vertical-align: top;\n",
       "    }\n",
       "\n",
       "    .dataframe thead th {\n",
       "        text-align: right;\n",
       "    }\n",
       "</style>\n",
       "<table border=\"1\" class=\"dataframe\">\n",
       "  <thead>\n",
       "    <tr style=\"text-align: right;\">\n",
       "      <th></th>\n",
       "      <th>x</th>\n",
       "      <th>y</th>\n",
       "    </tr>\n",
       "  </thead>\n",
       "  <tbody>\n",
       "    <tr>\n",
       "      <th>0</th>\n",
       "      <td>1</td>\n",
       "      <td>1.0</td>\n",
       "    </tr>\n",
       "    <tr>\n",
       "      <th>1</th>\n",
       "      <td>2</td>\n",
       "      <td>2.0</td>\n",
       "    </tr>\n",
       "    <tr>\n",
       "      <th>2</th>\n",
       "      <td>3</td>\n",
       "      <td>3.0</td>\n",
       "    </tr>\n",
       "    <tr>\n",
       "      <th>3</th>\n",
       "      <td>4</td>\n",
       "      <td>4.0</td>\n",
       "    </tr>\n",
       "    <tr>\n",
       "      <th>4</th>\n",
       "      <td>5</td>\n",
       "      <td>5.0</td>\n",
       "    </tr>\n",
       "  </tbody>\n",
       "</table>\n",
       "</div>"
      ],
      "text/plain": [
       "   x    y\n",
       "0  1  1.0\n",
       "1  2  2.0\n",
       "2  3  3.0\n",
       "3  4  4.0\n",
       "4  5  5.0"
      ]
     },
     "execution_count": 48,
     "metadata": {},
     "output_type": "execute_result"
    }
   ],
   "source": [
    "ddf.compute()"
   ]
  },
  {
   "cell_type": "code",
   "execution_count": 51,
   "id": "8b2b029f",
   "metadata": {},
   "outputs": [],
   "source": [
    "def myadd(df, b):\n",
    "    return df + b\n",
    "res = ddf.x.map_partitions(myadd, b=2)"
   ]
  },
  {
   "cell_type": "code",
   "execution_count": 52,
   "id": "f07be2b1",
   "metadata": {},
   "outputs": [
    {
     "data": {
      "text/plain": [
       "0    3\n",
       "1    4\n",
       "2    5\n",
       "3    6\n",
       "4    7\n",
       "Name: x, dtype: int64"
      ]
     },
     "execution_count": 52,
     "metadata": {},
     "output_type": "execute_result"
    }
   ],
   "source": [
    "res.compute()"
   ]
  },
  {
   "cell_type": "code",
   "execution_count": 121,
   "id": "97c75fff",
   "metadata": {},
   "outputs": [
    {
     "name": "stderr",
     "output_type": "stream",
     "text": [
      "/tmp/ipykernel_305896/118707986.py:2: DeprecationWarning: `np.str` is a deprecated alias for the builtin `str`. To silence this warning, use `str` by itself. Doing this will not modify any behavior and is safe. If you specifically wanted the numpy scalar type, use `np.str_` here.\n",
      "Deprecated in NumPy 1.20; for more details and guidance: https://numpy.org/devdocs/release/1.20.0-notes.html#deprecations\n",
      "  d = pd.DataFrame(lis, columns=['x'], dtype=np.str)\n"
     ]
    }
   ],
   "source": [
    "lis = ['a/b/c/d.txt', 'e/f/g/h/i.txt']\n",
    "d = pd.DataFrame(lis, columns=['x'], dtype=np.str)\n",
    "df = dd.from_pandas(d, npartitions=2)"
   ]
  },
  {
   "cell_type": "code",
   "execution_count": 124,
   "id": "a7493f64",
   "metadata": {},
   "outputs": [],
   "source": [
    "def your_add(df):\n",
    "    return df.split(\"/\")[-1]"
   ]
  },
  {
   "cell_type": "code",
   "execution_count": 125,
   "id": "45665a1f",
   "metadata": {},
   "outputs": [],
   "source": [
    "new_df = df.x.map(your_add)"
   ]
  },
  {
   "cell_type": "code",
   "execution_count": 126,
   "id": "b673a4b0",
   "metadata": {},
   "outputs": [
    {
     "data": {
      "text/plain": [
       "0    d.txt\n",
       "1    i.txt\n",
       "Name: x, dtype: object"
      ]
     },
     "execution_count": 126,
     "metadata": {},
     "output_type": "execute_result"
    }
   ],
   "source": [
    "new_df.compute()"
   ]
  },
  {
   "cell_type": "code",
   "execution_count": null,
   "id": "c04d1057",
   "metadata": {},
   "outputs": [],
   "source": []
  },
  {
   "cell_type": "code",
   "execution_count": 7,
   "id": "354fdde1",
   "metadata": {},
   "outputs": [],
   "source": [
    "ddf = dd.from_pandas(\n",
    "    pd.DataFrame({'image_path': ['x.jpg'] * 10, 'label': range(1,11)}),\n",
    "    npartitions=2\n",
    ")"
   ]
  },
  {
   "cell_type": "code",
   "execution_count": 8,
   "id": "7e28dc1f",
   "metadata": {},
   "outputs": [
    {
     "data": {
      "text/html": [
       "<div>\n",
       "<style scoped>\n",
       "    .dataframe tbody tr th:only-of-type {\n",
       "        vertical-align: middle;\n",
       "    }\n",
       "\n",
       "    .dataframe tbody tr th {\n",
       "        vertical-align: top;\n",
       "    }\n",
       "\n",
       "    .dataframe thead th {\n",
       "        text-align: right;\n",
       "    }\n",
       "</style>\n",
       "<table border=\"1\" class=\"dataframe\">\n",
       "  <thead>\n",
       "    <tr style=\"text-align: right;\">\n",
       "      <th></th>\n",
       "      <th>image_path</th>\n",
       "      <th>label</th>\n",
       "    </tr>\n",
       "  </thead>\n",
       "  <tbody>\n",
       "    <tr>\n",
       "      <th>0</th>\n",
       "      <td>x.jpg</td>\n",
       "      <td>1</td>\n",
       "    </tr>\n",
       "    <tr>\n",
       "      <th>1</th>\n",
       "      <td>x.jpg</td>\n",
       "      <td>2</td>\n",
       "    </tr>\n",
       "    <tr>\n",
       "      <th>2</th>\n",
       "      <td>x.jpg</td>\n",
       "      <td>3</td>\n",
       "    </tr>\n",
       "    <tr>\n",
       "      <th>3</th>\n",
       "      <td>x.jpg</td>\n",
       "      <td>4</td>\n",
       "    </tr>\n",
       "    <tr>\n",
       "      <th>4</th>\n",
       "      <td>x.jpg</td>\n",
       "      <td>5</td>\n",
       "    </tr>\n",
       "    <tr>\n",
       "      <th>5</th>\n",
       "      <td>x.jpg</td>\n",
       "      <td>6</td>\n",
       "    </tr>\n",
       "    <tr>\n",
       "      <th>6</th>\n",
       "      <td>x.jpg</td>\n",
       "      <td>7</td>\n",
       "    </tr>\n",
       "    <tr>\n",
       "      <th>7</th>\n",
       "      <td>x.jpg</td>\n",
       "      <td>8</td>\n",
       "    </tr>\n",
       "    <tr>\n",
       "      <th>8</th>\n",
       "      <td>x.jpg</td>\n",
       "      <td>9</td>\n",
       "    </tr>\n",
       "    <tr>\n",
       "      <th>9</th>\n",
       "      <td>x.jpg</td>\n",
       "      <td>10</td>\n",
       "    </tr>\n",
       "  </tbody>\n",
       "</table>\n",
       "</div>"
      ],
      "text/plain": [
       "  image_path  label\n",
       "0      x.jpg      1\n",
       "1      x.jpg      2\n",
       "2      x.jpg      3\n",
       "3      x.jpg      4\n",
       "4      x.jpg      5\n",
       "5      x.jpg      6\n",
       "6      x.jpg      7\n",
       "7      x.jpg      8\n",
       "8      x.jpg      9\n",
       "9      x.jpg     10"
      ]
     },
     "execution_count": 8,
     "metadata": {},
     "output_type": "execute_result"
    }
   ],
   "source": [
    "ddf.compute()"
   ]
  },
  {
   "cell_type": "code",
   "execution_count": 9,
   "id": "e03f790a",
   "metadata": {},
   "outputs": [],
   "source": [
    "def preprocess(path):\n",
    "    return len(path)"
   ]
  },
  {
   "cell_type": "code",
   "execution_count": 10,
   "id": "ae012b6f",
   "metadata": {},
   "outputs": [
    {
     "data": {
      "text/plain": [
       "0    5\n",
       "1    5\n",
       "2    5\n",
       "3    5\n",
       "4    5\n",
       "Name: sum_col1, dtype: int64"
      ]
     },
     "execution_count": 10,
     "metadata": {},
     "output_type": "execute_result"
    }
   ],
   "source": [
    "sum_col1 = ddf.image_path.apply(lambda x: preprocess(str(x)), meta=('sum_col1', int))\n",
    "sum_col1.head()"
   ]
  },
  {
   "cell_type": "code",
   "execution_count": 11,
   "id": "f001d53b",
   "metadata": {},
   "outputs": [],
   "source": [
    "sum_col2 = ddf.image_path.map_partitions(lambda x: preprocess(str(x)), meta=('sum_col2', int))"
   ]
  },
  {
   "cell_type": "code",
   "execution_count": 12,
   "id": "9ed5aef8",
   "metadata": {},
   "outputs": [
    {
     "data": {
      "text/plain": [
       "0    86\n",
       "1    86\n",
       "dtype: int64"
      ]
     },
     "execution_count": 12,
     "metadata": {},
     "output_type": "execute_result"
    }
   ],
   "source": [
    "sum_col2.compute()"
   ]
  },
  {
   "cell_type": "code",
   "execution_count": null,
   "id": "524643e9",
   "metadata": {},
   "outputs": [],
   "source": [
    "sum_col3 = ddf.image_path.map_partitions(\n",
    "    lambda x: x.apply(lambda y: preprocess(str(y))),\n",
    "    meta=('sum_col3', int)\n",
    ")"
   ]
  }
 ],
 "metadata": {
  "kernelspec": {
   "display_name": "Python 3 (ipykernel)",
   "language": "python",
   "name": "python3"
  },
  "language_info": {
   "codemirror_mode": {
    "name": "ipython",
    "version": 3
   },
   "file_extension": ".py",
   "mimetype": "text/x-python",
   "name": "python",
   "nbconvert_exporter": "python",
   "pygments_lexer": "ipython3",
   "version": "3.8.10"
  }
 },
 "nbformat": 4,
 "nbformat_minor": 5
}
