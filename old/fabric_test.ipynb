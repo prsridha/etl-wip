{
 "cells": [
  {
   "cell_type": "code",
   "execution_count": 3,
   "id": "3561e748",
   "metadata": {},
   "outputs": [],
   "source": [
    "import os.path\n",
    "from fabric import Connection, Config"
   ]
  },
  {
   "cell_type": "code",
   "execution_count": null,
   "id": "1c6d1ee2",
   "metadata": {},
   "outputs": [],
   "source": [
    "user = \"prsridha\"\n",
    "host = \"128.110.217.91\"\n",
    "pem_path = \"./cloudlab.pem\"\n",
    "connect_kwargs = {\"key_filename\":pem_path}\n",
    "conn = Connection(host, user=user, connect_kwargs=connect_kwargs)\n",
    "\n",
    "def pull(from_path, to_path, conn):\n",
    "    to_path_dir = \"/\".join(to_path.split(\"/\")[:-1])\n",
    "    Path(to_path_dir).mkdir(parents=True, exist_ok=True)\n",
    "    result = conn.get(from_path, to_path)\n",
    "    print(\"Pulled from {0.remote} to {0.local}\".format(result))"
   ]
  }
 ],
 "metadata": {
  "kernelspec": {
   "display_name": "Python 3 (ipykernel)",
   "language": "python",
   "name": "python3"
  },
  "language_info": {
   "codemirror_mode": {
    "name": "ipython",
    "version": 3
   },
   "file_extension": ".py",
   "mimetype": "text/x-python",
   "name": "python",
   "nbconvert_exporter": "python",
   "pygments_lexer": "ipython3",
   "version": "3.8.10"
  }
 },
 "nbformat": 4,
 "nbformat_minor": 5
}
