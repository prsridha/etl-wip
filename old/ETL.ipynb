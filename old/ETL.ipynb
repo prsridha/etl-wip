{
 "cells": [
  {
   "cell_type": "code",
   "execution_count": 6,
   "id": "63cc94ff",
   "metadata": {},
   "outputs": [],
   "source": [
    "from pathlib import Path\n",
    "import numpy as np\n",
    "from PIL import Image\n",
    "import dask.dataframe as dd\n",
    "from dask.distributed import Client\n",
    "from dask.distributed import get_worker\n",
    "from fabric import Connection, Config"
   ]
  },
  {
   "cell_type": "markdown",
   "id": "24c4698a",
   "metadata": {},
   "source": [
    "### Connecting the client"
   ]
  },
  {
   "cell_type": "code",
   "execution_count": 7,
   "id": "9506e19c",
   "metadata": {
    "scrolled": false
   },
   "outputs": [
    {
     "data": {
      "text/html": [
       "<div>\n",
       "    <div style=\"width: 24px; height: 24px; background-color: #e1e1e1; border: 3px solid #9D9D9D; border-radius: 5px; position: absolute;\"> </div>\n",
       "    <div style=\"margin-left: 48px;\">\n",
       "        <h3 style=\"margin-bottom: 0px;\">Client</h3>\n",
       "        <p style=\"color: #9D9D9D; margin-bottom: 0px;\">Client-786e4e89-8eee-11ec-88a3-4d3a6cdc2aca</p>\n",
       "        <table style=\"width: 100%; text-align: left;\">\n",
       "\n",
       "        <tr>\n",
       "        \n",
       "            <td style=\"text-align: left;\"><strong>Connection method:</strong> Direct</td>\n",
       "            <td style=\"text-align: left;\"></td>\n",
       "        \n",
       "        </tr>\n",
       "\n",
       "        \n",
       "            <tr>\n",
       "                <td style=\"text-align: left;\">\n",
       "                    <strong>Dashboard: </strong> <a href=\"http://128.110.217.91:8787/status\" target=\"_blank\">http://128.110.217.91:8787/status</a>\n",
       "                </td>\n",
       "                <td style=\"text-align: left;\"></td>\n",
       "            </tr>\n",
       "        \n",
       "\n",
       "        </table>\n",
       "\n",
       "        \n",
       "            <details>\n",
       "            <summary style=\"margin-bottom: 20px;\"><h3 style=\"display: inline;\">Scheduler Info</h3></summary>\n",
       "            <div style=\"\">\n",
       "    <div>\n",
       "        <div style=\"width: 24px; height: 24px; background-color: #FFF7E5; border: 3px solid #FF6132; border-radius: 5px; position: absolute;\"> </div>\n",
       "        <div style=\"margin-left: 48px;\">\n",
       "            <h3 style=\"margin-bottom: 0px;\">Scheduler</h3>\n",
       "            <p style=\"color: #9D9D9D; margin-bottom: 0px;\">Scheduler-b69607f0-cddb-4ced-a4ea-c6492f718540</p>\n",
       "            <table style=\"width: 100%; text-align: left;\">\n",
       "                <tr>\n",
       "                    <td style=\"text-align: left;\">\n",
       "                        <strong>Comm:</strong> tcp://128.110.217.91:8786\n",
       "                    </td>\n",
       "                    <td style=\"text-align: left;\">\n",
       "                        <strong>Workers:</strong> 2\n",
       "                    </td>\n",
       "                </tr>\n",
       "                <tr>\n",
       "                    <td style=\"text-align: left;\">\n",
       "                        <strong>Dashboard:</strong> <a href=\"http://128.110.217.91:8787/status\" target=\"_blank\">http://128.110.217.91:8787/status</a>\n",
       "                    </td>\n",
       "                    <td style=\"text-align: left;\">\n",
       "                        <strong>Total threads:</strong> 32\n",
       "                    </td>\n",
       "                </tr>\n",
       "                <tr>\n",
       "                    <td style=\"text-align: left;\">\n",
       "                        <strong>Started:</strong> 1 minute ago\n",
       "                    </td>\n",
       "                    <td style=\"text-align: left;\">\n",
       "                        <strong>Total memory:</strong> 125.38 GiB\n",
       "                    </td>\n",
       "                </tr>\n",
       "            </table>\n",
       "        </div>\n",
       "    </div>\n",
       "\n",
       "    <details style=\"margin-left: 48px;\">\n",
       "        <summary style=\"margin-bottom: 20px;\">\n",
       "            <h3 style=\"display: inline;\">Workers</h3>\n",
       "        </summary>\n",
       "\n",
       "        \n",
       "        <div style=\"margin-bottom: 20px;\">\n",
       "            <div style=\"width: 24px; height: 24px; background-color: #DBF5FF; border: 3px solid #4CC9FF; border-radius: 5px; position: absolute;\"> </div>\n",
       "            <div style=\"margin-left: 48px;\">\n",
       "            <details>\n",
       "                <summary>\n",
       "                    <h4 style=\"margin-bottom: 0px; display: inline;\">Worker: tcp://128.110.217.112:38567</h4>\n",
       "                </summary>\n",
       "                <table style=\"width: 100%; text-align: left;\">\n",
       "                    <tr>\n",
       "                        <td style=\"text-align: left;\">\n",
       "                            <strong>Comm: </strong> tcp://128.110.217.112:38567\n",
       "                        </td>\n",
       "                        <td style=\"text-align: left;\">\n",
       "                            <strong>Total threads: </strong> 16\n",
       "                        </td>\n",
       "                    </tr>\n",
       "                    <tr>\n",
       "                        <td style=\"text-align: left;\">\n",
       "                            <strong>Dashboard: </strong> <a href=\"http://128.110.217.112:46397/status\" target=\"_blank\">http://128.110.217.112:46397/status</a>\n",
       "                        </td>\n",
       "                        <td style=\"text-align: left;\">\n",
       "                            <strong>Memory: </strong> 62.69 GiB\n",
       "                        </td>\n",
       "                    </tr>\n",
       "                    <tr>\n",
       "                        <td style=\"text-align: left;\">\n",
       "                            <strong>Nanny: </strong> tcp://128.110.217.112:37321\n",
       "                        </td>\n",
       "                        <td style=\"text-align: left;\"></td>\n",
       "                    </tr>\n",
       "                    <tr>\n",
       "                        <td colspan=\"2\" style=\"text-align: left;\">\n",
       "                            <strong>Local directory: </strong> /users/prsridha/dask-worker-space/worker-_bbf_qic\n",
       "                        </td>\n",
       "                    </tr>\n",
       "\n",
       "                    \n",
       "\n",
       "                    \n",
       "                    <tr>\n",
       "                        <td style=\"text-align: left;\">\n",
       "                            <strong>Tasks executing: </strong> 0\n",
       "                        </td>\n",
       "                        <td style=\"text-align: left;\">\n",
       "                            <strong>Tasks in memory: </strong> 0\n",
       "                        </td>\n",
       "                    </tr>\n",
       "                    <tr>\n",
       "                        <td style=\"text-align: left;\">\n",
       "                            <strong>Tasks ready: </strong> 0\n",
       "                        </td>\n",
       "                        <td style=\"text-align: left;\">\n",
       "                            <strong>Tasks in flight: </strong>0\n",
       "                        </td>\n",
       "                    </tr>\n",
       "                    <tr>\n",
       "                        <td style=\"text-align: left;\">\n",
       "                            <strong>CPU usage:</strong> 4.0%\n",
       "                        </td>\n",
       "                        <td style=\"text-align: left;\">\n",
       "                            <strong>Last seen: </strong> Just now\n",
       "                        </td>\n",
       "                    </tr>\n",
       "                    <tr>\n",
       "                        <td style=\"text-align: left;\">\n",
       "                            <strong>Memory usage: </strong> 100.07 MiB\n",
       "                        </td>\n",
       "                        <td style=\"text-align: left;\">\n",
       "                            <strong>Spilled bytes: </strong> 0 B\n",
       "                        </td>\n",
       "                    </tr>\n",
       "                    <tr>\n",
       "                        <td style=\"text-align: left;\">\n",
       "                            <strong>Read bytes: </strong> 2.76 kiB\n",
       "                        </td>\n",
       "                        <td style=\"text-align: left;\">\n",
       "                            <strong>Write bytes: </strong> 1.17 kiB\n",
       "                        </td>\n",
       "                    </tr>\n",
       "                    \n",
       "\n",
       "                </table>\n",
       "            </details>\n",
       "            </div>\n",
       "        </div>\n",
       "        \n",
       "        <div style=\"margin-bottom: 20px;\">\n",
       "            <div style=\"width: 24px; height: 24px; background-color: #DBF5FF; border: 3px solid #4CC9FF; border-radius: 5px; position: absolute;\"> </div>\n",
       "            <div style=\"margin-left: 48px;\">\n",
       "            <details>\n",
       "                <summary>\n",
       "                    <h4 style=\"margin-bottom: 0px; display: inline;\">Worker: tcp://128.110.217.73:33701</h4>\n",
       "                </summary>\n",
       "                <table style=\"width: 100%; text-align: left;\">\n",
       "                    <tr>\n",
       "                        <td style=\"text-align: left;\">\n",
       "                            <strong>Comm: </strong> tcp://128.110.217.73:33701\n",
       "                        </td>\n",
       "                        <td style=\"text-align: left;\">\n",
       "                            <strong>Total threads: </strong> 16\n",
       "                        </td>\n",
       "                    </tr>\n",
       "                    <tr>\n",
       "                        <td style=\"text-align: left;\">\n",
       "                            <strong>Dashboard: </strong> <a href=\"http://128.110.217.73:39685/status\" target=\"_blank\">http://128.110.217.73:39685/status</a>\n",
       "                        </td>\n",
       "                        <td style=\"text-align: left;\">\n",
       "                            <strong>Memory: </strong> 62.69 GiB\n",
       "                        </td>\n",
       "                    </tr>\n",
       "                    <tr>\n",
       "                        <td style=\"text-align: left;\">\n",
       "                            <strong>Nanny: </strong> tcp://128.110.217.73:33303\n",
       "                        </td>\n",
       "                        <td style=\"text-align: left;\"></td>\n",
       "                    </tr>\n",
       "                    <tr>\n",
       "                        <td colspan=\"2\" style=\"text-align: left;\">\n",
       "                            <strong>Local directory: </strong> /users/prsridha/dask-worker-space/worker-6vkge3pz\n",
       "                        </td>\n",
       "                    </tr>\n",
       "\n",
       "                    \n",
       "\n",
       "                    \n",
       "                    <tr>\n",
       "                        <td style=\"text-align: left;\">\n",
       "                            <strong>Tasks executing: </strong> 0\n",
       "                        </td>\n",
       "                        <td style=\"text-align: left;\">\n",
       "                            <strong>Tasks in memory: </strong> 0\n",
       "                        </td>\n",
       "                    </tr>\n",
       "                    <tr>\n",
       "                        <td style=\"text-align: left;\">\n",
       "                            <strong>Tasks ready: </strong> 0\n",
       "                        </td>\n",
       "                        <td style=\"text-align: left;\">\n",
       "                            <strong>Tasks in flight: </strong>0\n",
       "                        </td>\n",
       "                    </tr>\n",
       "                    <tr>\n",
       "                        <td style=\"text-align: left;\">\n",
       "                            <strong>CPU usage:</strong> 4.0%\n",
       "                        </td>\n",
       "                        <td style=\"text-align: left;\">\n",
       "                            <strong>Last seen: </strong> Just now\n",
       "                        </td>\n",
       "                    </tr>\n",
       "                    <tr>\n",
       "                        <td style=\"text-align: left;\">\n",
       "                            <strong>Memory usage: </strong> 100.74 MiB\n",
       "                        </td>\n",
       "                        <td style=\"text-align: left;\">\n",
       "                            <strong>Spilled bytes: </strong> 0 B\n",
       "                        </td>\n",
       "                    </tr>\n",
       "                    <tr>\n",
       "                        <td style=\"text-align: left;\">\n",
       "                            <strong>Read bytes: </strong> 1.80 kiB\n",
       "                        </td>\n",
       "                        <td style=\"text-align: left;\">\n",
       "                            <strong>Write bytes: </strong> 0.95 kiB\n",
       "                        </td>\n",
       "                    </tr>\n",
       "                    \n",
       "\n",
       "                </table>\n",
       "            </details>\n",
       "            </div>\n",
       "        </div>\n",
       "        \n",
       "\n",
       "    </details>\n",
       "</div>\n",
       "            </details>\n",
       "        \n",
       "\n",
       "    </div>\n",
       "</div>"
      ],
      "text/plain": [
       "<Client: 'tcp://128.110.217.91:8786' processes=2 threads=32, memory=125.38 GiB>"
      ]
     },
     "execution_count": 7,
     "metadata": {},
     "output_type": "execute_result"
    }
   ],
   "source": [
    "client = Client(\"tcp://128.110.217.91:8786\")\n",
    "client"
   ]
  },
  {
   "cell_type": "code",
   "execution_count": 8,
   "id": "13e9df51",
   "metadata": {},
   "outputs": [],
   "source": [
    "# We will be automating this through REST API calls.\n",
    "# each worker will initialze a dask-worker instance on it\n",
    "# the scheduler can then obtain the newly created dask-worker's IP\n",
    "# through a REST GET call.\n",
    "\n",
    "def initialize_workers(client):\n",
    "    \"\"\"Initialize workers (get worker IPs)\"\"\"\n",
    "    worker_id_ip_dict = {}\n",
    "    all_worker_details = client.scheduler_info()['workers']\n",
    "    i = 0\n",
    "    for ip in all_worker_details:\n",
    "        # set the mapping between worker ID and worker IP\n",
    "        worker_id_ip_dict[i] = str(ip)\n",
    "        i += 1\n",
    "    return worker_id_ip_dict\n",
    "workers = initialize_workers(client)"
   ]
  },
  {
   "cell_type": "code",
   "execution_count": 23,
   "id": "4a8728f0",
   "metadata": {},
   "outputs": [],
   "source": [
    "node_to_dask_worker = {\n",
    "    0: \"tcp://128.110.217.73:37225\",\n",
    "    1: \"tcp://128.110.217.112:40287\"\n",
    "}"
   ]
  },
  {
   "cell_type": "markdown",
   "id": "09388c5a",
   "metadata": {},
   "source": [
    "### Reading the dataset"
   ]
  },
  {
   "cell_type": "code",
   "execution_count": 10,
   "id": "8f8e7097",
   "metadata": {},
   "outputs": [
    {
     "name": "stderr",
     "output_type": "stream",
     "text": [
      "/tmp/ipykernel_329891/3867680041.py:3: DeprecationWarning: `np.str` is a deprecated alias for the builtin `str`. To silence this warning, use `str` by itself. Doing this will not modify any behavior and is safe. If you specifically wanted the numpy scalar type, use `np.str_` here.\n",
      "Deprecated in NumPy 1.20; for more details and guidance: https://numpy.org/devdocs/release/1.20.0-notes.html#deprecations\n",
      "  dtypes = {'image_path': np.str, 'label': np.int16}\n"
     ]
    }
   ],
   "source": [
    "DATA_URL = \"metadata.csv\"\n",
    "feature_names = [\"image_path\", \"label\"]\n",
    "dtypes = {'image_path': np.str, 'label': np.int16}\n",
    "df0 = dd.read_csv(DATA_URL, names=feature_names, dtype=dtypes)\n",
    "df = df0.sample(frac=0.001)"
   ]
  },
  {
   "cell_type": "code",
   "execution_count": 11,
   "id": "c20f810e",
   "metadata": {},
   "outputs": [
    {
     "data": {
      "text/html": [
       "<div>\n",
       "<style scoped>\n",
       "    .dataframe tbody tr th:only-of-type {\n",
       "        vertical-align: middle;\n",
       "    }\n",
       "\n",
       "    .dataframe tbody tr th {\n",
       "        vertical-align: top;\n",
       "    }\n",
       "\n",
       "    .dataframe thead th {\n",
       "        text-align: right;\n",
       "    }\n",
       "</style>\n",
       "<table border=\"1\" class=\"dataframe\">\n",
       "  <thead>\n",
       "    <tr style=\"text-align: right;\">\n",
       "      <th></th>\n",
       "      <th>image_path</th>\n",
       "      <th>label</th>\n",
       "    </tr>\n",
       "  </thead>\n",
       "  <tbody>\n",
       "    <tr>\n",
       "      <th>33731</th>\n",
       "      <td>data/trainingSet/trainingSet/7/img_36135.jpg</td>\n",
       "      <td>7</td>\n",
       "    </tr>\n",
       "    <tr>\n",
       "      <th>21289</th>\n",
       "      <td>data/trainingSet/trainingSet/4/img_3790.jpg</td>\n",
       "      <td>4</td>\n",
       "    </tr>\n",
       "    <tr>\n",
       "      <th>20349</th>\n",
       "      <td>data/trainingSet/trainingSet/4/img_1831.jpg</td>\n",
       "      <td>4</td>\n",
       "    </tr>\n",
       "    <tr>\n",
       "      <th>28533</th>\n",
       "      <td>data/trainingSet/trainingSet/6/img_33670.jpg</td>\n",
       "      <td>6</td>\n",
       "    </tr>\n",
       "    <tr>\n",
       "      <th>24025</th>\n",
       "      <td>data/trainingSet/trainingSet/5/img_33007.jpg</td>\n",
       "      <td>5</td>\n",
       "    </tr>\n",
       "  </tbody>\n",
       "</table>\n",
       "</div>"
      ],
      "text/plain": [
       "                                         image_path  label\n",
       "33731  data/trainingSet/trainingSet/7/img_36135.jpg      7\n",
       "21289   data/trainingSet/trainingSet/4/img_3790.jpg      4\n",
       "20349   data/trainingSet/trainingSet/4/img_1831.jpg      4\n",
       "28533  data/trainingSet/trainingSet/6/img_33670.jpg      6\n",
       "24025  data/trainingSet/trainingSet/5/img_33007.jpg      5"
      ]
     },
     "execution_count": 11,
     "metadata": {},
     "output_type": "execute_result"
    }
   ],
   "source": [
    "df.head()"
   ]
  },
  {
   "cell_type": "markdown",
   "id": "bde9415c",
   "metadata": {},
   "source": [
    "### Shuffling the data"
   ]
  },
  {
   "cell_type": "code",
   "execution_count": 12,
   "id": "43b3554e",
   "metadata": {},
   "outputs": [
    {
     "data": {
      "text/html": [
       "<div>\n",
       "<style scoped>\n",
       "    .dataframe tbody tr th:only-of-type {\n",
       "        vertical-align: middle;\n",
       "    }\n",
       "\n",
       "    .dataframe tbody tr th {\n",
       "        vertical-align: top;\n",
       "    }\n",
       "\n",
       "    .dataframe thead th {\n",
       "        text-align: right;\n",
       "    }\n",
       "</style>\n",
       "<table border=\"1\" class=\"dataframe\">\n",
       "  <thead>\n",
       "    <tr style=\"text-align: right;\">\n",
       "      <th></th>\n",
       "      <th>image_path</th>\n",
       "      <th>label</th>\n",
       "    </tr>\n",
       "  </thead>\n",
       "  <tbody>\n",
       "    <tr>\n",
       "      <th>4298</th>\n",
       "      <td>data/trainingSet/trainingSet/1/img_27897.jpg</td>\n",
       "      <td>1</td>\n",
       "    </tr>\n",
       "    <tr>\n",
       "      <th>9878</th>\n",
       "      <td>data/trainingSet/trainingSet/2/img_27434.jpg</td>\n",
       "      <td>2</td>\n",
       "    </tr>\n",
       "    <tr>\n",
       "      <th>22162</th>\n",
       "      <td>data/trainingSet/trainingSet/5/img_34013.jpg</td>\n",
       "      <td>5</td>\n",
       "    </tr>\n",
       "    <tr>\n",
       "      <th>19343</th>\n",
       "      <td>data/trainingSet/trainingSet/4/img_36635.jpg</td>\n",
       "      <td>4</td>\n",
       "    </tr>\n",
       "    <tr>\n",
       "      <th>16383</th>\n",
       "      <td>data/trainingSet/trainingSet/3/img_13297.jpg</td>\n",
       "      <td>3</td>\n",
       "    </tr>\n",
       "  </tbody>\n",
       "</table>\n",
       "</div>"
      ],
      "text/plain": [
       "                                         image_path  label\n",
       "4298   data/trainingSet/trainingSet/1/img_27897.jpg      1\n",
       "9878   data/trainingSet/trainingSet/2/img_27434.jpg      2\n",
       "22162  data/trainingSet/trainingSet/5/img_34013.jpg      5\n",
       "19343  data/trainingSet/trainingSet/4/img_36635.jpg      4\n",
       "16383  data/trainingSet/trainingSet/3/img_13297.jpg      3"
      ]
     },
     "execution_count": 12,
     "metadata": {},
     "output_type": "execute_result"
    }
   ],
   "source": [
    "shuffled_df = df.sample(frac=1)\n",
    "shuffled_df.head()"
   ]
  },
  {
   "cell_type": "code",
   "execution_count": 13,
   "id": "635d0fc5",
   "metadata": {},
   "outputs": [],
   "source": [
    "sharded_df = shuffled_df.repartition(npartitions=len(workers))"
   ]
  },
  {
   "cell_type": "markdown",
   "id": "5ec23005",
   "metadata": {},
   "source": [
    "### Pulling each dask partition (multi-media columns) into workers"
   ]
  },
  {
   "cell_type": "code",
   "execution_count": 14,
   "id": "cdccbdb1",
   "metadata": {},
   "outputs": [],
   "source": [
    "# This will also be done through the REST API\n",
    "# The scheduler will pass the paths of the images to each worker.\n",
    "# Each worker will then pull its list of images from the scheduler/remote S3\n",
    "\n",
    "user = \"prsridha\"\n",
    "host = \"ms0921.utah.cloudlab.us\"\n",
    "pem_path = \"./cloudlab.pem\"\n",
    "connect_kwargs = {\"key_filename\":pem_path}\n",
    "conn = Connection(host, user=user, connect_kwargs=connect_kwargs)\n",
    "\n",
    "def pull(from_path, to_path):\n",
    "    to_path_dir = \"/\".join(to_path.split(\"/\")[:-1])\n",
    "    Path(to_path_dir).mkdir(parents=True, exist_ok=True)\n",
    "    result = conn.get(from_path, to_path)\n",
    "    print(\"Pulled from {0.remote} to {0.local}\".format(result))"
   ]
  },
  {
   "cell_type": "code",
   "execution_count": 16,
   "id": "ecfc1497",
   "metadata": {},
   "outputs": [],
   "source": [
    "part0 = sharded_df.partitions[0]\n",
    "part1 = sharded_df.partitions[1]"
   ]
  },
  {
   "cell_type": "code",
   "execution_count": 17,
   "id": "3bbd34f0",
   "metadata": {},
   "outputs": [],
   "source": [
    "images_list0 = list(part0.image_path.compute())\n",
    "images_list1 = list(part1.image_path.compute())\n",
    "with open(\"node0_list.txt\", \"w\") as f:\n",
    "    f.write(\"\\n\".join(images_list0))\n",
    "with open(\"node1_list.txt\", \"w\") as f:\n",
    "    f.write(\"\\n\".join(images_list1))"
   ]
  },
  {
   "cell_type": "markdown",
   "id": "efe5d11d",
   "metadata": {},
   "source": [
    "### Define the preprocessing routine and call map_partitions on each dask partition"
   ]
  },
  {
   "cell_type": "code",
   "execution_count": 18,
   "id": "e7bc6887",
   "metadata": {},
   "outputs": [],
   "source": [
    "def preprocess_row(row):\n",
    "    return str(row[\"image_path\"]) + \";\" + str(row[\"label\"])"
   ]
  },
  {
   "cell_type": "code",
   "execution_count": 19,
   "id": "3c7e0f1a",
   "metadata": {},
   "outputs": [],
   "source": [
    "def preprocess_col(path):\n",
    "    new_path = \"/users/prsridha/\" + path\n",
    "\n",
    "    im = Image.open(str(new_path))\n",
    "    pixels = list(im.getdata())\n",
    "    return sum(pixels)"
   ]
  },
  {
   "cell_type": "code",
   "execution_count": 20,
   "id": "5027800a",
   "metadata": {},
   "outputs": [],
   "source": [
    "processed_col_part0 = part0.image_path.map_partitions(lambda x: x.apply(lambda y: preprocess_col(str(y))), meta=('processed_col_part0', int))\n",
    "processed_col_part1 = part1.image_path.map_partitions(lambda x: x.apply(lambda y: preprocess_col(str(y))), meta=('processed_col_part1', int))"
   ]
  },
  {
   "cell_type": "markdown",
   "id": "bc9567d3",
   "metadata": {},
   "source": [
    "### Compute partitions on their respective workers"
   ]
  },
  {
   "cell_type": "code",
   "execution_count": 26,
   "id": "c7f94391",
   "metadata": {},
   "outputs": [
    {
     "data": {
      "text/plain": [
       "7825     15733\n",
       "21289    26416\n",
       "34377    22767\n",
       "9323     41658\n",
       "5083     12202\n",
       "28533    31922\n",
       "2523     44622\n",
       "4963     26622\n",
       "11854    33994\n",
       "8394     18847\n",
       "14276    25136\n",
       "27627    36019\n",
       "33731    26381\n",
       "31769    20826\n",
       "38792    21332\n",
       "17884    33401\n",
       "23106    35784\n",
       "19207    21204\n",
       "8368     21760\n",
       "11087    29936\n",
       "4124     42718\n",
       "Name: processed_col_part1, dtype: int64"
      ]
     },
     "execution_count": 26,
     "metadata": {},
     "output_type": "execute_result"
    }
   ],
   "source": [
    "processed_col_part0.compute(workers=workers[1])\n",
    "processed_col_part1.compute(workers=workers[0])"
   ]
  },
  {
   "cell_type": "code",
   "execution_count": 28,
   "id": "47c057d0",
   "metadata": {},
   "outputs": [],
   "source": [
    "# The next step is to save the new_cols as\n",
    "# tf records/PyTorch tensors.\n",
    "# In the actual implementation, compute will not be called here"
   ]
  }
 ],
 "metadata": {
  "kernelspec": {
   "display_name": "Python 3 (ipykernel)",
   "language": "python",
   "name": "python3"
  },
  "language_info": {
   "codemirror_mode": {
    "name": "ipython",
    "version": 3
   },
   "file_extension": ".py",
   "mimetype": "text/x-python",
   "name": "python",
   "nbconvert_exporter": "python",
   "pygments_lexer": "ipython3",
   "version": "3.8.10"
  }
 },
 "nbformat": 4,
 "nbformat_minor": 5
}
