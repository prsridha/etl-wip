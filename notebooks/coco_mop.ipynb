{
 "cells": [
  {
   "cell_type": "code",
   "execution_count": 25,
   "id": "88ff0bb1-0388-40a3-ae7e-55aebbb705b7",
   "metadata": {},
   "outputs": [
    {
     "ename": "ModuleNotFoundError",
     "evalue": "No module named 'pandas'",
     "output_type": "error",
     "traceback": [
      "\u001b[0;31m---------------------------------------------------------------------------\u001b[0m",
      "\u001b[0;31mModuleNotFoundError\u001b[0m                       Traceback (most recent call last)",
      "Input \u001b[0;32mIn [25]\u001b[0m, in \u001b[0;36m<cell line: 5>\u001b[0;34m()\u001b[0m\n\u001b[1;32m      3\u001b[0m \u001b[38;5;28;01mimport\u001b[39;00m \u001b[38;5;21;01mnltk\u001b[39;00m\n\u001b[1;32m      4\u001b[0m \u001b[38;5;28;01mimport\u001b[39;00m \u001b[38;5;21;01mjson\u001b[39;00m\n\u001b[0;32m----> 5\u001b[0m \u001b[38;5;28;01mimport\u001b[39;00m \u001b[38;5;21;01mpandas\u001b[39;00m \u001b[38;5;28;01mas\u001b[39;00m \u001b[38;5;21;01mpd\u001b[39;00m\n",
      "\u001b[0;31mModuleNotFoundError\u001b[0m: No module named 'pandas'"
     ]
    }
   ],
   "source": [
    "import torch\n",
    "from torchvision import transforms\n",
    "import nltk\n",
    "import json\n",
    "import pandas as pd"
   ]
  },
  {
   "cell_type": "code",
   "execution_count": 4,
   "id": "a87029c6-f43a-4398-a974-ec8a396cfc28",
   "metadata": {},
   "outputs": [],
   "source": [
    "# Define a transform to pre-process the training images.\n",
    "\n",
    "\n",
    "# Set the minimum word count threshold.\n",
    "vocab_threshold = 5\n",
    "\n",
    "# Specify the batch size.\n",
    "batch_size = 10"
   ]
  },
  {
   "cell_type": "code",
   "execution_count": 6,
   "id": "f1ca98fa-f5e1-4a3c-b809-a840d947bc14",
   "metadata": {},
   "outputs": [],
   "source": [
    "def row_preprocessing_routine(row, to_root_path, kwargs):\n",
    "    from torchvision import transforms\n",
    "    \n",
    "    # Convert image to tensor and pre-process using transform\n",
    "    transform_train = transforms.Compose([ \n",
    "    transforms.Resize(256),                          # smaller edge of image resized to 256\n",
    "    transforms.RandomCrop(224),                      # get 224x224 crop from random location\n",
    "    transforms.RandomHorizontalFlip(),               # horizontally flip image with probability=0.5\n",
    "    transforms.ToTensor(),                           # convert the PIL Image to a tensor\n",
    "    transforms.Normalize((0.485, 0.456, 0.406),      # normalize image for pre-trained model\n",
    "                         (0.229, 0.224, 0.225))])\n",
    "    \n",
    "    \n",
    "    input_image_path = to_root_path + str(row[\"file_name\"])\n",
    "    image = Image.open(input_image_path).convert(\"RGB\")\n",
    "    image_tensor = self.transform(image)\n",
    "    \n",
    "    vocab = kwargs[\"vocab\"]\n",
    "    \n",
    "    output_caption = row[\"captions\"]\n",
    "    tokens = nltk.tokenize.word_tokenize(str(output_caption).lower())\n",
    "    caption = []\n",
    "    caption.append(vocab(vocab.start_word))\n",
    "    caption.extend([vocab(token) for token in tokens])\n",
    "    caption.append(vocab(vocab.end_word))\n",
    "    caption_tensor = torch.Tensor(caption).long()\n",
    "    return image_tensor, caption_tensor"
   ]
  },
  {
   "cell_type": "code",
   "execution_count": 22,
   "id": "2efd74e8-9b02-4d9a-8748-7e00cd569588",
   "metadata": {},
   "outputs": [],
   "source": [
    "data = None\n",
    "with open(\"/Users/vignesh/Downloads/annotations/captions_train2014.json\") as f:\n",
    "    data = json.load(f)\n",
    "feature_names = [\"id\", \"file_name\", \"height\", \"width\", \"caption\", \"date_captured\"]\n",
    "dataset = {\n",
    "    'id': [],\n",
    "    'file_name': [],\n",
    "    'height': [],\n",
    "    'width': [],\n",
    "    'captions': [],\n",
    "    'date_captured': []\n",
    "}\n",
    "\n",
    "dataset_modified = {\n",
    "    'id': [],\n",
    "    'file_name': [],\n",
    "    'height': [],\n",
    "    'width': [],\n",
    "    'captions': [],\n",
    "    'date_captured': []\n",
    "}\n",
    "\n",
    "annotations = {}\n",
    "annotations_list = data['annotations']\n",
    "for i in annotations_list:\n",
    "    if not i[\"image_id\"] in annotations:\n",
    "        annotations[i[\"image_id\"]] = []\n",
    "    annotations[i[\"image_id\"]].append(i[\"caption\"])\n",
    "\n",
    "for i in range(len(data['images'])):\n",
    "    for caption in annotations[data[\"images\"][i]['id']]:\n",
    "        dataset['id'].append(data[\"images\"][i]['id'])\n",
    "        dataset['file_name'].append(data[\"images\"][i]['file_name'])\n",
    "        dataset['height'].append(data[\"images\"][i]['height'])\n",
    "        dataset['width'].append(data[\"images\"][i]['width'])\n",
    "        dataset['captions'].append(caption)\n",
    "        dataset['date_captured'].append(data[\"images\"][i]['date_captured'])"
   ]
  },
  {
   "cell_type": "code",
   "execution_count": 23,
   "id": "0964f519-3d41-4d10-9280-232b795d06ae",
   "metadata": {},
   "outputs": [
    {
     "data": {
      "text/plain": [
       "414113"
      ]
     },
     "execution_count": 23,
     "metadata": {},
     "output_type": "execute_result"
    }
   ],
   "source": [
    "len(dataset['file_name'])"
   ]
  },
  {
   "cell_type": "code",
   "execution_count": 24,
   "id": "13ed6331-c5fe-47ef-a218-0a890eb2b781",
   "metadata": {},
   "outputs": [
    {
     "ename": "NameError",
     "evalue": "name 'pd' is not defined",
     "output_type": "error",
     "traceback": [
      "\u001b[0;31m---------------------------------------------------------------------------\u001b[0m",
      "\u001b[0;31mNameError\u001b[0m                                 Traceback (most recent call last)",
      "Input \u001b[0;32mIn [24]\u001b[0m, in \u001b[0;36m<cell line: 1>\u001b[0;34m()\u001b[0m\n\u001b[0;32m----> 1\u001b[0m pd_df \u001b[38;5;241m=\u001b[39m \u001b[43mpd\u001b[49m\u001b[38;5;241m.\u001b[39mDataFrame(dataset)\n\u001b[1;32m      2\u001b[0m df0 \u001b[38;5;241m=\u001b[39m dd\u001b[38;5;241m.\u001b[39mfrom_pandas(pd_df, npartitions\u001b[38;5;241m=\u001b[39m\u001b[38;5;241m2\u001b[39m)\n\u001b[1;32m      3\u001b[0m df \u001b[38;5;241m=\u001b[39m df0\u001b[38;5;241m.\u001b[39msample(frac\u001b[38;5;241m=\u001b[39m\u001b[38;5;241m0.01\u001b[39m)\n",
      "\u001b[0;31mNameError\u001b[0m: name 'pd' is not defined"
     ]
    }
   ],
   "source": [
    "pd_df = pd.DataFrame(dataset)\n",
    "df0 = dd.from_pandas(pd_df, npartitions=2)\n",
    "df = df0.sample(frac=0.01)"
   ]
  }
 ],
 "metadata": {
  "kernelspec": {
   "display_name": "Python 3 (ipykernel)",
   "language": "python",
   "name": "python3"
  },
  "language_info": {
   "codemirror_mode": {
    "name": "ipython",
    "version": 3
   },
   "file_extension": ".py",
   "mimetype": "text/x-python",
   "name": "python",
   "nbconvert_exporter": "python",
   "pygments_lexer": "ipython3",
   "version": "3.9.10"
  }
 },
 "nbformat": 4,
 "nbformat_minor": 5
}
