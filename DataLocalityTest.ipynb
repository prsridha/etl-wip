{
 "cells": [
  {
   "cell_type": "code",
   "execution_count": 290,
   "id": "18c296a1",
   "metadata": {},
   "outputs": [],
   "source": [
    "import os.path\n",
    "import random\n",
    "from matplotlib import pyplot, image\n",
    "from pathlib import Path\n",
    "import numpy as np\n",
    "from PIL import Image\n",
    "import dask.dataframe as dd\n",
    "from dask.distributed import Client\n",
    "from dask.distributed import get_worker\n",
    "from dask.distributed import progress\n",
    "from fabric import Connection, Config"
   ]
  },
  {
   "cell_type": "code",
   "execution_count": 291,
   "id": "8f24c458",
   "metadata": {},
   "outputs": [
    {
     "name": "stderr",
     "output_type": "stream",
     "text": [
      "/users/prsridha/.local/lib/python3.8/site-packages/distributed/client.py:1265: VersionMismatchWarning: Mismatched versions found\n",
      "\n",
      "+---------+--------+-----------+---------+\n",
      "| Package | client | scheduler | workers |\n",
      "+---------+--------+-----------+---------+\n",
      "| blosc   | 1.7.0  | 1.7.0     | None    |\n",
      "+---------+--------+-----------+---------+\n",
      "  warnings.warn(version_module.VersionMismatchWarning(msg[0][\"warning\"]))\n"
     ]
    }
   ],
   "source": [
    "client = Client(\"tcp://128.110.217.91:8786\")"
   ]
  },
  {
   "cell_type": "code",
   "execution_count": 292,
   "id": "04ae43c0",
   "metadata": {},
   "outputs": [
    {
     "data": {
      "text/html": [
       "<div>\n",
       "    <div style=\"width: 24px; height: 24px; background-color: #e1e1e1; border: 3px solid #9D9D9D; border-radius: 5px; position: absolute;\"> </div>\n",
       "    <div style=\"margin-left: 48px;\">\n",
       "        <h3 style=\"margin-bottom: 0px;\">Client</h3>\n",
       "        <p style=\"color: #9D9D9D; margin-bottom: 0px;\">Client-99807792-92ab-11ec-9f24-4d3a6cdc2aca</p>\n",
       "        <table style=\"width: 100%; text-align: left;\">\n",
       "\n",
       "        <tr>\n",
       "        \n",
       "            <td style=\"text-align: left;\"><strong>Connection method:</strong> Direct</td>\n",
       "            <td style=\"text-align: left;\"></td>\n",
       "        \n",
       "        </tr>\n",
       "\n",
       "        \n",
       "            <tr>\n",
       "                <td style=\"text-align: left;\">\n",
       "                    <strong>Dashboard: </strong> <a href=\"http://128.110.217.91:8787/status\" target=\"_blank\">http://128.110.217.91:8787/status</a>\n",
       "                </td>\n",
       "                <td style=\"text-align: left;\"></td>\n",
       "            </tr>\n",
       "        \n",
       "\n",
       "        </table>\n",
       "\n",
       "        \n",
       "            <details>\n",
       "            <summary style=\"margin-bottom: 20px;\"><h3 style=\"display: inline;\">Scheduler Info</h3></summary>\n",
       "            <div style=\"\">\n",
       "    <div>\n",
       "        <div style=\"width: 24px; height: 24px; background-color: #FFF7E5; border: 3px solid #FF6132; border-radius: 5px; position: absolute;\"> </div>\n",
       "        <div style=\"margin-left: 48px;\">\n",
       "            <h3 style=\"margin-bottom: 0px;\">Scheduler</h3>\n",
       "            <p style=\"color: #9D9D9D; margin-bottom: 0px;\">Scheduler-335dc7b4-7329-4b32-9c4f-fece02fec66a</p>\n",
       "            <table style=\"width: 100%; text-align: left;\">\n",
       "                <tr>\n",
       "                    <td style=\"text-align: left;\">\n",
       "                        <strong>Comm:</strong> tcp://128.110.217.91:8786\n",
       "                    </td>\n",
       "                    <td style=\"text-align: left;\">\n",
       "                        <strong>Workers:</strong> 2\n",
       "                    </td>\n",
       "                </tr>\n",
       "                <tr>\n",
       "                    <td style=\"text-align: left;\">\n",
       "                        <strong>Dashboard:</strong> <a href=\"http://128.110.217.91:8787/status\" target=\"_blank\">http://128.110.217.91:8787/status</a>\n",
       "                    </td>\n",
       "                    <td style=\"text-align: left;\">\n",
       "                        <strong>Total threads:</strong> 32\n",
       "                    </td>\n",
       "                </tr>\n",
       "                <tr>\n",
       "                    <td style=\"text-align: left;\">\n",
       "                        <strong>Started:</strong> 1 hour ago\n",
       "                    </td>\n",
       "                    <td style=\"text-align: left;\">\n",
       "                        <strong>Total memory:</strong> 125.38 GiB\n",
       "                    </td>\n",
       "                </tr>\n",
       "            </table>\n",
       "        </div>\n",
       "    </div>\n",
       "\n",
       "    <details style=\"margin-left: 48px;\">\n",
       "        <summary style=\"margin-bottom: 20px;\">\n",
       "            <h3 style=\"display: inline;\">Workers</h3>\n",
       "        </summary>\n",
       "\n",
       "        \n",
       "        <div style=\"margin-bottom: 20px;\">\n",
       "            <div style=\"width: 24px; height: 24px; background-color: #DBF5FF; border: 3px solid #4CC9FF; border-radius: 5px; position: absolute;\"> </div>\n",
       "            <div style=\"margin-left: 48px;\">\n",
       "            <details>\n",
       "                <summary>\n",
       "                    <h4 style=\"margin-bottom: 0px; display: inline;\">Worker: tcp://128.110.217.112:44595</h4>\n",
       "                </summary>\n",
       "                <table style=\"width: 100%; text-align: left;\">\n",
       "                    <tr>\n",
       "                        <td style=\"text-align: left;\">\n",
       "                            <strong>Comm: </strong> tcp://128.110.217.112:44595\n",
       "                        </td>\n",
       "                        <td style=\"text-align: left;\">\n",
       "                            <strong>Total threads: </strong> 16\n",
       "                        </td>\n",
       "                    </tr>\n",
       "                    <tr>\n",
       "                        <td style=\"text-align: left;\">\n",
       "                            <strong>Dashboard: </strong> <a href=\"http://128.110.217.112:46521/status\" target=\"_blank\">http://128.110.217.112:46521/status</a>\n",
       "                        </td>\n",
       "                        <td style=\"text-align: left;\">\n",
       "                            <strong>Memory: </strong> 62.69 GiB\n",
       "                        </td>\n",
       "                    </tr>\n",
       "                    <tr>\n",
       "                        <td style=\"text-align: left;\">\n",
       "                            <strong>Nanny: </strong> tcp://128.110.217.112:43953\n",
       "                        </td>\n",
       "                        <td style=\"text-align: left;\"></td>\n",
       "                    </tr>\n",
       "                    <tr>\n",
       "                        <td colspan=\"2\" style=\"text-align: left;\">\n",
       "                            <strong>Local directory: </strong> /users/prsridha/dask-worker-space/worker-dhgoi516\n",
       "                        </td>\n",
       "                    </tr>\n",
       "\n",
       "                    \n",
       "\n",
       "                    \n",
       "                    <tr>\n",
       "                        <td style=\"text-align: left;\">\n",
       "                            <strong>Tasks executing: </strong> 0\n",
       "                        </td>\n",
       "                        <td style=\"text-align: left;\">\n",
       "                            <strong>Tasks in memory: </strong> 1\n",
       "                        </td>\n",
       "                    </tr>\n",
       "                    <tr>\n",
       "                        <td style=\"text-align: left;\">\n",
       "                            <strong>Tasks ready: </strong> 0\n",
       "                        </td>\n",
       "                        <td style=\"text-align: left;\">\n",
       "                            <strong>Tasks in flight: </strong>0\n",
       "                        </td>\n",
       "                    </tr>\n",
       "                    <tr>\n",
       "                        <td style=\"text-align: left;\">\n",
       "                            <strong>CPU usage:</strong> 2.0%\n",
       "                        </td>\n",
       "                        <td style=\"text-align: left;\">\n",
       "                            <strong>Last seen: </strong> Just now\n",
       "                        </td>\n",
       "                    </tr>\n",
       "                    <tr>\n",
       "                        <td style=\"text-align: left;\">\n",
       "                            <strong>Memory usage: </strong> 240.61 MiB\n",
       "                        </td>\n",
       "                        <td style=\"text-align: left;\">\n",
       "                            <strong>Spilled bytes: </strong> 0 B\n",
       "                        </td>\n",
       "                    </tr>\n",
       "                    <tr>\n",
       "                        <td style=\"text-align: left;\">\n",
       "                            <strong>Read bytes: </strong> 2.39 kiB\n",
       "                        </td>\n",
       "                        <td style=\"text-align: left;\">\n",
       "                            <strong>Write bytes: </strong> 132.08395572327572 B\n",
       "                        </td>\n",
       "                    </tr>\n",
       "                    \n",
       "\n",
       "                </table>\n",
       "            </details>\n",
       "            </div>\n",
       "        </div>\n",
       "        \n",
       "        <div style=\"margin-bottom: 20px;\">\n",
       "            <div style=\"width: 24px; height: 24px; background-color: #DBF5FF; border: 3px solid #4CC9FF; border-radius: 5px; position: absolute;\"> </div>\n",
       "            <div style=\"margin-left: 48px;\">\n",
       "            <details>\n",
       "                <summary>\n",
       "                    <h4 style=\"margin-bottom: 0px; display: inline;\">Worker: tcp://128.110.217.73:44061</h4>\n",
       "                </summary>\n",
       "                <table style=\"width: 100%; text-align: left;\">\n",
       "                    <tr>\n",
       "                        <td style=\"text-align: left;\">\n",
       "                            <strong>Comm: </strong> tcp://128.110.217.73:44061\n",
       "                        </td>\n",
       "                        <td style=\"text-align: left;\">\n",
       "                            <strong>Total threads: </strong> 16\n",
       "                        </td>\n",
       "                    </tr>\n",
       "                    <tr>\n",
       "                        <td style=\"text-align: left;\">\n",
       "                            <strong>Dashboard: </strong> <a href=\"http://128.110.217.73:39025/status\" target=\"_blank\">http://128.110.217.73:39025/status</a>\n",
       "                        </td>\n",
       "                        <td style=\"text-align: left;\">\n",
       "                            <strong>Memory: </strong> 62.69 GiB\n",
       "                        </td>\n",
       "                    </tr>\n",
       "                    <tr>\n",
       "                        <td style=\"text-align: left;\">\n",
       "                            <strong>Nanny: </strong> tcp://128.110.217.73:37311\n",
       "                        </td>\n",
       "                        <td style=\"text-align: left;\"></td>\n",
       "                    </tr>\n",
       "                    <tr>\n",
       "                        <td colspan=\"2\" style=\"text-align: left;\">\n",
       "                            <strong>Local directory: </strong> /users/prsridha/dask-worker-space/worker-03amojzz\n",
       "                        </td>\n",
       "                    </tr>\n",
       "\n",
       "                    \n",
       "\n",
       "                    \n",
       "                    <tr>\n",
       "                        <td style=\"text-align: left;\">\n",
       "                            <strong>Tasks executing: </strong> 0\n",
       "                        </td>\n",
       "                        <td style=\"text-align: left;\">\n",
       "                            <strong>Tasks in memory: </strong> 0\n",
       "                        </td>\n",
       "                    </tr>\n",
       "                    <tr>\n",
       "                        <td style=\"text-align: left;\">\n",
       "                            <strong>Tasks ready: </strong> 0\n",
       "                        </td>\n",
       "                        <td style=\"text-align: left;\">\n",
       "                            <strong>Tasks in flight: </strong>0\n",
       "                        </td>\n",
       "                    </tr>\n",
       "                    <tr>\n",
       "                        <td style=\"text-align: left;\">\n",
       "                            <strong>CPU usage:</strong> 4.0%\n",
       "                        </td>\n",
       "                        <td style=\"text-align: left;\">\n",
       "                            <strong>Last seen: </strong> Just now\n",
       "                        </td>\n",
       "                    </tr>\n",
       "                    <tr>\n",
       "                        <td style=\"text-align: left;\">\n",
       "                            <strong>Memory usage: </strong> 212.65 MiB\n",
       "                        </td>\n",
       "                        <td style=\"text-align: left;\">\n",
       "                            <strong>Spilled bytes: </strong> 0 B\n",
       "                        </td>\n",
       "                    </tr>\n",
       "                    <tr>\n",
       "                        <td style=\"text-align: left;\">\n",
       "                            <strong>Read bytes: </strong> 1.10 kiB\n",
       "                        </td>\n",
       "                        <td style=\"text-align: left;\">\n",
       "                            <strong>Write bytes: </strong> 132.02354469571887 B\n",
       "                        </td>\n",
       "                    </tr>\n",
       "                    \n",
       "\n",
       "                </table>\n",
       "            </details>\n",
       "            </div>\n",
       "        </div>\n",
       "        \n",
       "\n",
       "    </details>\n",
       "</div>\n",
       "            </details>\n",
       "        \n",
       "\n",
       "    </div>\n",
       "</div>"
      ],
      "text/plain": [
       "<Client: 'tcp://128.110.217.91:8786' processes=2 threads=32, memory=125.38 GiB>"
      ]
     },
     "execution_count": 292,
     "metadata": {},
     "output_type": "execute_result"
    }
   ],
   "source": [
    "client"
   ]
  },
  {
   "cell_type": "code",
   "execution_count": 293,
   "id": "a2777c80",
   "metadata": {},
   "outputs": [
    {
     "name": "stderr",
     "output_type": "stream",
     "text": [
      "/tmp/ipykernel_352036/3867680041.py:3: DeprecationWarning: `np.str` is a deprecated alias for the builtin `str`. To silence this warning, use `str` by itself. Doing this will not modify any behavior and is safe. If you specifically wanted the numpy scalar type, use `np.str_` here.\n",
      "Deprecated in NumPy 1.20; for more details and guidance: https://numpy.org/devdocs/release/1.20.0-notes.html#deprecations\n",
      "  dtypes = {'image_path': np.str, 'label': np.int16}\n"
     ]
    }
   ],
   "source": [
    "DATA_URL = \"metadata.csv\"\n",
    "feature_names = [\"image_path\", \"label\"]\n",
    "dtypes = {'image_path': np.str, 'label': np.int16}\n",
    "df0 = dd.read_csv(DATA_URL, names=feature_names, dtype=dtypes)\n",
    "df = df0.sample(frac=0.001)"
   ]
  },
  {
   "cell_type": "code",
   "execution_count": 294,
   "id": "eeaad0db",
   "metadata": {},
   "outputs": [
    {
     "data": {
      "text/plain": [
       "42"
      ]
     },
     "execution_count": 294,
     "metadata": {},
     "output_type": "execute_result"
    }
   ],
   "source": [
    "len(df)"
   ]
  },
  {
   "cell_type": "code",
   "execution_count": 295,
   "id": "6b23f54d",
   "metadata": {},
   "outputs": [],
   "source": [
    "def initialize_workers(client):\n",
    "    \"\"\"Initialize workers (get worker IPs)\"\"\"\n",
    "    worker_id_ip_dict = {}\n",
    "    all_worker_details = client.scheduler_info()['workers']\n",
    "    i = 0\n",
    "    for ip in all_worker_details:\n",
    "        # set the mapping between worker ID and worker IP\n",
    "        worker_id_ip_dict[i] = str(ip)\n",
    "        i += 1\n",
    "    return worker_id_ip_dict\n",
    "workers = initialize_workers(client)"
   ]
  },
  {
   "cell_type": "code",
   "execution_count": null,
   "id": "f136f6c4",
   "metadata": {},
   "outputs": [],
   "source": []
  },
  {
   "cell_type": "code",
   "execution_count": 296,
   "id": "dd5d2f1f",
   "metadata": {},
   "outputs": [],
   "source": [
    "def create_connection():    \n",
    "    user = \"prsridha\"\n",
    "    host = \"128.110.217.91\"\n",
    "    pem_path = \"./cloudlab.pem\"\n",
    "    connect_kwargs = {\"key_filename\":pem_path}\n",
    "    conn = Connection(host, user=user, connect_kwargs=connect_kwargs)\n",
    "    \n",
    "    return conn"
   ]
  },
  {
   "cell_type": "code",
   "execution_count": 297,
   "id": "9e552026",
   "metadata": {},
   "outputs": [],
   "source": [
    "def pull(from_path, to_path, conns):\n",
    "    worker_id = get_worker().address\n",
    "    conn = conns[worker_id]\n",
    "    to_path_dir = \"/\".join(to_path.split(\"/\")[:-1])\n",
    "    Path(to_path_dir).mkdir(parents=True, exist_ok=True)\n",
    "    result = conn.get(from_path, to_path)\n",
    "    print(\"Pulled from {0.remote} to {0.local}\".format(result))"
   ]
  },
  {
   "cell_type": "code",
   "execution_count": 298,
   "id": "5c951069",
   "metadata": {},
   "outputs": [
    {
     "data": {
      "text/html": [
       "<div>\n",
       "<style scoped>\n",
       "    .dataframe tbody tr th:only-of-type {\n",
       "        vertical-align: middle;\n",
       "    }\n",
       "\n",
       "    .dataframe tbody tr th {\n",
       "        vertical-align: top;\n",
       "    }\n",
       "\n",
       "    .dataframe thead th {\n",
       "        text-align: right;\n",
       "    }\n",
       "</style>\n",
       "<table border=\"1\" class=\"dataframe\">\n",
       "  <thead>\n",
       "    <tr style=\"text-align: right;\">\n",
       "      <th></th>\n",
       "      <th>image_path</th>\n",
       "      <th>label</th>\n",
       "    </tr>\n",
       "  </thead>\n",
       "  <tbody>\n",
       "    <tr>\n",
       "      <th>15022</th>\n",
       "      <td>data/trainingSet/trainingSet/3/img_4185.jpg</td>\n",
       "      <td>3</td>\n",
       "    </tr>\n",
       "    <tr>\n",
       "      <th>11433</th>\n",
       "      <td>data/trainingSet/trainingSet/2/img_22909.jpg</td>\n",
       "      <td>2</td>\n",
       "    </tr>\n",
       "    <tr>\n",
       "      <th>15025</th>\n",
       "      <td>data/trainingSet/trainingSet/3/img_35701.jpg</td>\n",
       "      <td>3</td>\n",
       "    </tr>\n",
       "    <tr>\n",
       "      <th>20074</th>\n",
       "      <td>data/trainingSet/trainingSet/4/img_27296.jpg</td>\n",
       "      <td>4</td>\n",
       "    </tr>\n",
       "    <tr>\n",
       "      <th>3467</th>\n",
       "      <td>data/trainingSet/trainingSet/0/img_8857.jpg</td>\n",
       "      <td>0</td>\n",
       "    </tr>\n",
       "  </tbody>\n",
       "</table>\n",
       "</div>"
      ],
      "text/plain": [
       "                                         image_path  label\n",
       "15022   data/trainingSet/trainingSet/3/img_4185.jpg      3\n",
       "11433  data/trainingSet/trainingSet/2/img_22909.jpg      2\n",
       "15025  data/trainingSet/trainingSet/3/img_35701.jpg      3\n",
       "20074  data/trainingSet/trainingSet/4/img_27296.jpg      4\n",
       "3467    data/trainingSet/trainingSet/0/img_8857.jpg      0"
      ]
     },
     "execution_count": 298,
     "metadata": {},
     "output_type": "execute_result"
    }
   ],
   "source": [
    "shuffled_df = df.sample(frac=1)\n",
    "shuffled_df.head()"
   ]
  },
  {
   "cell_type": "code",
   "execution_count": 299,
   "id": "efda9c99",
   "metadata": {},
   "outputs": [],
   "source": [
    "new_df = shuffled_df.repartition(npartitions=2)"
   ]
  },
  {
   "cell_type": "code",
   "execution_count": 300,
   "id": "29f01630",
   "metadata": {},
   "outputs": [],
   "source": [
    "def preprocess_row(row):\n",
    "    return str(row[\"image_path\"]) + \";\" + str(row[\"label\"])"
   ]
  },
  {
   "cell_type": "code",
   "execution_count": 301,
   "id": "6c0ff447",
   "metadata": {},
   "outputs": [],
   "source": [
    "def preprocess_col(path, conns):\n",
    "    new_path = \"/users/prsridha/\" + path\n",
    "    pull(new_path, new_path, conns)\n",
    "    \n",
    "    im = Image.open(str(new_path))\n",
    "    pixels = list(im.getdata())\n",
    "    return sum(pixels)"
   ]
  },
  {
   "cell_type": "code",
   "execution_count": 307,
   "id": "8c26961b",
   "metadata": {},
   "outputs": [],
   "source": [
    "conns = {}\n",
    "for i in workers.values():\n",
    "    fut_conn = client.submit(create_connection, workers=i)\n",
    "    conns[i] = fut_conn.result()"
   ]
  },
  {
   "cell_type": "code",
   "execution_count": 303,
   "id": "aeb0b54c",
   "metadata": {},
   "outputs": [],
   "source": [
    "def preprocess_col1(path, conns):\n",
    "    worker_id = get_worker().address\n",
    "    print(\"Running path\",path, \"on worker\", worker_id)\n",
    "    if not os.path.isfile(path):\n",
    "        to_path_dir = \"/\".join(path.split(\"/\")[:-1])\n",
    "        Path(to_path_dir).mkdir(parents=True, exist_ok=True)\n",
    "    with open(path, \"w\") as f:\n",
    "        f.write(\"Created file \" + path)\n",
    "    return 0"
   ]
  },
  {
   "cell_type": "code",
   "execution_count": 304,
   "id": "f11ed3b1",
   "metadata": {},
   "outputs": [],
   "source": [
    "def preprocess_col2(path, conns):\n",
    "    worker_id = get_worker().address\n",
    "    print(\"Running path\",path, \"on worker\", worker_id)\n",
    "    return worker_id"
   ]
  },
  {
   "cell_type": "code",
   "execution_count": 305,
   "id": "54e5924a",
   "metadata": {},
   "outputs": [],
   "source": [
    "new_col = new_df.image_path.map_partitions(lambda x: x.apply(lambda y: preprocess_col2(str(y), conns)), meta=('new_col', int))"
   ]
  },
  {
   "cell_type": "code",
   "execution_count": 306,
   "id": "8edd100a",
   "metadata": {
    "scrolled": false
   },
   "outputs": [
    {
     "data": {
      "text/plain": [
       "15022    tcp://128.110.217.73:44061\n",
       "11433    tcp://128.110.217.73:44061\n",
       "15025    tcp://128.110.217.73:44061\n",
       "20074    tcp://128.110.217.73:44061\n",
       "3467     tcp://128.110.217.73:44061\n",
       "41313    tcp://128.110.217.73:44061\n",
       "37900    tcp://128.110.217.73:44061\n",
       "4404     tcp://128.110.217.73:44061\n",
       "5297     tcp://128.110.217.73:44061\n",
       "40472    tcp://128.110.217.73:44061\n",
       "731      tcp://128.110.217.73:44061\n",
       "39643    tcp://128.110.217.73:44061\n",
       "15361    tcp://128.110.217.73:44061\n",
       "19988    tcp://128.110.217.73:44061\n",
       "6431     tcp://128.110.217.73:44061\n",
       "39707    tcp://128.110.217.73:44061\n",
       "33296    tcp://128.110.217.73:44061\n",
       "16268    tcp://128.110.217.73:44061\n",
       "12421    tcp://128.110.217.73:44061\n",
       "16819    tcp://128.110.217.73:44061\n",
       "34055    tcp://128.110.217.73:44061\n",
       "9329     tcp://128.110.217.73:44061\n",
       "18824    tcp://128.110.217.73:44061\n",
       "40183    tcp://128.110.217.73:44061\n",
       "27681    tcp://128.110.217.73:44061\n",
       "29958    tcp://128.110.217.73:44061\n",
       "14516    tcp://128.110.217.73:44061\n",
       "36974    tcp://128.110.217.73:44061\n",
       "24806    tcp://128.110.217.73:44061\n",
       "18859    tcp://128.110.217.73:44061\n",
       "1553     tcp://128.110.217.73:44061\n",
       "25029    tcp://128.110.217.73:44061\n",
       "22176    tcp://128.110.217.73:44061\n",
       "26751    tcp://128.110.217.73:44061\n",
       "15611    tcp://128.110.217.73:44061\n",
       "12156    tcp://128.110.217.73:44061\n",
       "38616    tcp://128.110.217.73:44061\n",
       "24425    tcp://128.110.217.73:44061\n",
       "18143    tcp://128.110.217.73:44061\n",
       "22534    tcp://128.110.217.73:44061\n",
       "27229    tcp://128.110.217.73:44061\n",
       "32219    tcp://128.110.217.73:44061\n",
       "Name: new_col, dtype: object"
      ]
     },
     "execution_count": 306,
     "metadata": {},
     "output_type": "execute_result"
    }
   ],
   "source": [
    "new_col.compute(workers=[workers[1], workers[0]])"
   ]
  },
  {
   "cell_type": "code",
   "execution_count": null,
   "id": "f12ba366",
   "metadata": {},
   "outputs": [],
   "source": []
  },
  {
   "cell_type": "code",
   "execution_count": 45,
   "id": "28c86ba8",
   "metadata": {},
   "outputs": [],
   "source": [
    "part1 = new_df.partitions[0]\n",
    "part2 = new_df.partitions[1]"
   ]
  },
  {
   "cell_type": "code",
   "execution_count": 46,
   "id": "7b11430f",
   "metadata": {},
   "outputs": [],
   "source": [
    "n1 = list(part1.image_path.compute())\n",
    "n2 = list(part2.image_path.compute())\n",
    "with open(\"worker1_list.txt\", \"w\") as f:\n",
    "    f.write(\"\\n\".join(n1))\n",
    "with open(\"worker2_list.txt\", \"w\") as f:\n",
    "    f.write(\"\\n\".join(n2))"
   ]
  },
  {
   "cell_type": "code",
   "execution_count": 26,
   "id": "03ca2c65",
   "metadata": {},
   "outputs": [],
   "source": [
    "new_col1 = part1.image_path.map_partitions(lambda x: x.apply(lambda y: preprocess_col(str(y))), meta=('new_col1', int))\n",
    "new_col2 = part2.image_path.map_partitions(lambda x: x.apply(lambda y: preprocess_col(str(y))), meta=('new_col2', int))"
   ]
  },
  {
   "cell_type": "code",
   "execution_count": 93,
   "id": "8b57df39",
   "metadata": {},
   "outputs": [],
   "source": [
    "new_col1.compute(workers=workers[0])"
   ]
  },
  {
   "cell_type": "code",
   "execution_count": 94,
   "id": "3cacce44",
   "metadata": {},
   "outputs": [],
   "source": [
    "new_col2.compute(workers=workers[1])"
   ]
  },
  {
   "cell_type": "code",
   "execution_count": 81,
   "id": "106c2a58",
   "metadata": {},
   "outputs": [],
   "source": []
  },
  {
   "cell_type": "code",
   "execution_count": null,
   "id": "5d7871a7",
   "metadata": {},
   "outputs": [],
   "source": []
  },
  {
   "cell_type": "code",
   "execution_count": null,
   "id": "958e5c03",
   "metadata": {},
   "outputs": [],
   "source": []
  },
  {
   "cell_type": "code",
   "execution_count": 121,
   "id": "46d296b3",
   "metadata": {},
   "outputs": [],
   "source": []
  },
  {
   "cell_type": "code",
   "execution_count": 122,
   "id": "d5cc2a0d",
   "metadata": {},
   "outputs": [],
   "source": []
  },
  {
   "cell_type": "code",
   "execution_count": null,
   "id": "9cc472ce",
   "metadata": {},
   "outputs": [],
   "source": []
  },
  {
   "cell_type": "code",
   "execution_count": null,
   "id": "5b7df2fb",
   "metadata": {
    "scrolled": true
   },
   "outputs": [],
   "source": []
  },
  {
   "cell_type": "code",
   "execution_count": null,
   "id": "f4072719",
   "metadata": {},
   "outputs": [],
   "source": []
  },
  {
   "cell_type": "code",
   "execution_count": null,
   "id": "d44968c0",
   "metadata": {},
   "outputs": [],
   "source": [
    "conn.close()\n"
   ]
  }
 ],
 "metadata": {
  "kernelspec": {
   "display_name": "Python 3 (ipykernel)",
   "language": "python",
   "name": "python3"
  },
  "language_info": {
   "codemirror_mode": {
    "name": "ipython",
    "version": 3
   },
   "file_extension": ".py",
   "mimetype": "text/x-python",
   "name": "python",
   "nbconvert_exporter": "python",
   "pygments_lexer": "ipython3",
   "version": "3.8.10"
  }
 },
 "nbformat": 4,
 "nbformat_minor": 5
}
